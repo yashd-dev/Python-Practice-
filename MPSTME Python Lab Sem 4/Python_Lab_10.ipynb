{
 "cells": [
  {
   "cell_type": "code",
   "execution_count": 1,
   "metadata": {},
   "outputs": [],
   "source": [
    "import re"
   ]
  },
  {
   "cell_type": "code",
   "execution_count": 5,
   "metadata": {},
   "outputs": [
    {
     "name": "stdout",
     "output_type": "stream",
     "text": [
      "It is matching\n"
     ]
    }
   ],
   "source": [
    "# 1 Write a Python program to check that a string contains only a certain set of characters (in this case a-z, A-Z and 0-9).\n",
    "string = \"Testing \"\n",
    "p = \"[a-zA-Z0-9]\"\n",
    "s = bool(re.search(p, string))\n",
    "if s:\n",
    "    print(\"It is matching\")\n",
    "else:\n",
    "    print(\"It is not matching\")\n"
   ]
  },
  {
   "cell_type": "code",
   "execution_count": 17,
   "metadata": {},
   "outputs": [
    {
     "name": "stdout",
     "output_type": "stream",
     "text": [
      "It is found\n"
     ]
    }
   ],
   "source": [
    "# 2 Write a Python program that matches a string that has an a followed by zero or more b's.\n",
    "string = \"Taxyza\"\n",
    "\n",
    "p = \".*ab*\"\n",
    "\n",
    "s = bool(re.search(p, string))\n",
    "if s:\n",
    "    print(\"It is found\")\n",
    "else:\n",
    "    print(\"It is not matching\")\n"
   ]
  },
  {
   "cell_type": "code",
   "execution_count": 19,
   "metadata": {},
   "outputs": [
    {
     "name": "stdout",
     "output_type": "stream",
     "text": [
      "It is found\n"
     ]
    }
   ],
   "source": [
    "#3 3. Write a Python program that matches a string that has an a followed by one or more b's. \n",
    "\n",
    "string = \"Taxyzabbb\"\n",
    "\n",
    "p = \".*ab+\"\n",
    "\n",
    "s = bool(re.search(p, string))\n",
    "if s:\n",
    "    print(\"It is found\")\n",
    "else:\n",
    "    print(\"It is not matching\")"
   ]
  },
  {
   "cell_type": "code",
   "execution_count": 6,
   "metadata": {},
   "outputs": [
    {
     "name": "stdout",
     "output_type": "stream",
     "text": [
      "It is found\n"
     ]
    }
   ],
   "source": [
    "# 4 Write a Python program that matches a string that has an a followed by zero or one 'b'.\n",
    "string = \"Tab\"\n",
    "p = \".*ab?\"\n",
    "s = bool(re.search(p, string))\n",
    "if s:\n",
    "    print(\"It is found\")\n",
    "else:\n",
    "    print(\"It is not matching\")\n"
   ]
  },
  {
   "cell_type": "code",
   "execution_count": 27,
   "metadata": {},
   "outputs": [
    {
     "name": "stdout",
     "output_type": "stream",
     "text": [
      "It is found\n"
     ]
    }
   ],
   "source": [
    "# 5 Write a Python program that matches a string that has an a followed by three 'b'.\n",
    "string = \"Tabbb\"\n",
    "p = \".*ab{3}\"\n",
    "s = bool(re.search(p, string))\n",
    "if s:\n",
    "    print(\"It is found\")\n",
    "else:\n",
    "    print(\"It is not matching\")\n"
   ]
  },
  {
   "cell_type": "code",
   "execution_count": 8,
   "metadata": {},
   "outputs": [
    {
     "name": "stdout",
     "output_type": "stream",
     "text": [
      "It is not matching\n"
     ]
    }
   ],
   "source": [
    "# 6 Write a Python program that matches a string that has an a followed by two to three 'b'.\n",
    "string = \"jab\"\n",
    "p = \"^.*ab{2,3}$\"\n",
    "s = bool(re.search(p, string))\n",
    "\n",
    "if s:\n",
    "    print(\"It is found\")\n",
    "else:\n",
    "    print(\"It is not matching\")\n"
   ]
  },
  {
   "cell_type": "code",
   "execution_count": 35,
   "metadata": {},
   "outputs": [
    {
     "name": "stdout",
     "output_type": "stream",
     "text": [
      "It is not matching\n"
     ]
    }
   ],
   "source": [
    "#7 Write a Python program to find sequences of lowercase letters joined with a underscore\n",
    "import re\n",
    "string=\"jab__k\"\n",
    "p=\"[a-z]+_[a-z]+\"\n",
    "\n",
    "if re.search(p,string):\n",
    "    print(\"It is found\")\n",
    "else:\n",
    "    print(\"It is not matching\")"
   ]
  },
  {
   "cell_type": "code",
   "execution_count": 38,
   "metadata": {},
   "outputs": [
    {
     "name": "stdout",
     "output_type": "stream",
     "text": [
      "It is found\n"
     ]
    }
   ],
   "source": [
    "# 8 Write a Python program to find the sequences of one upper case letter followed by lower case letters \n",
    "\n",
    "string=\"Jab\"\n",
    "p=\"^[A-Z]{1}[a-z]+$\"\n",
    "\n",
    "s=bool(re.search(p,string))\n",
    "\n",
    "if s:\n",
    "    print(\"It is found\")\n",
    "else:\n",
    "    print(\"It is not matching\")"
   ]
  },
  {
   "cell_type": "code",
   "execution_count": 41,
   "metadata": {},
   "outputs": [
    {
     "name": "stdout",
     "output_type": "stream",
     "text": [
      "It is found\n"
     ]
    }
   ],
   "source": [
    "# 9 Write a Python program that matches a string that has an 'a' followed by anything, ending in 'b'. \n",
    "\n",
    "string=\"kabab\"\n",
    "p=\"a.*b\"\n",
    "\n",
    "s=bool(re.search(p,string))\n",
    "\n",
    "if s:\n",
    "    print(\"It is found\")\n",
    "else:\n",
    "    print(\"It is not matching\")"
   ]
  },
  {
   "cell_type": "code",
   "execution_count": 44,
   "metadata": {},
   "outputs": [
    {
     "name": "stdout",
     "output_type": "stream",
     "text": [
      "Found a match\n",
      "found\n"
     ]
    }
   ],
   "source": [
    "#10 Write a Python program that matches a word at the beginning of a string. \n",
    "\n",
    "userinput=input(\"Enter a word to match\")\n",
    "stringg=input(\"ENter the string to match the word with\")\n",
    "\n",
    "if stringg.startswith(userinput):\n",
    "    print(\"Found a match\")\n",
    "else:\n",
    "    print(\"No matches found\")\n",
    "\n",
    "p=f\"^{userinput}\"\n",
    "if re.search(p,stringg):\n",
    "    print(\"found\")\n",
    "\n"
   ]
  },
  {
   "cell_type": "code",
   "execution_count": 45,
   "metadata": {},
   "outputs": [
    {
     "name": "stdout",
     "output_type": "stream",
     "text": [
      "It is found\n"
     ]
    }
   ],
   "source": [
    "# 11 Write a Python program that matches a word at the end of string, with optional punctuation.\n",
    "\n",
    "userinput=input(\"Enter a word to match\") #test\n",
    "stringg=input(\"ENter the string to match the word with\") #123 test.\n",
    "pattern=f\"{userinput}+\\S*$\"\n",
    "s=bool(re.search(pattern,stringg))\n",
    "\n",
    "if s:\n",
    "    print(\"It is found\")\n",
    "else:\n",
    "    print(\"It is not matching\")"
   ]
  },
  {
   "cell_type": "code",
   "execution_count": 14,
   "metadata": {},
   "outputs": [
    {
     "name": "stdout",
     "output_type": "stream",
     "text": [
      "It is found\n"
     ]
    }
   ],
   "source": [
    "\n",
    "#12 Write a Python program that matches a word containing 'z'\n",
    "import re\n",
    "string=\"zeebra\"\n",
    "p=\"\\w*z\\w*\"\n",
    "\n",
    "s=bool(re.search(p,string))\n",
    "\n",
    "if s:\n",
    "    print(\"It is found\")\n",
    "else:\n",
    "    print(\"It is not matching\")"
   ]
  },
  {
   "cell_type": "code",
   "execution_count": 59,
   "metadata": {},
   "outputs": [
    {
     "name": "stdout",
     "output_type": "stream",
     "text": [
      "It is found\n"
     ]
    }
   ],
   "source": [
    "# 13. Write a Python program that matches a word containing 'z', not at the start or end of the word\n",
    "\n",
    "string=\"aszhz8ui\"\n",
    "pattern=\"^[^z]\\w*z\\w*[^z]$\"\n",
    "\n",
    "s=bool(re.search(pattern,string))\n",
    "\n",
    "if s:\n",
    "    print(\"It is found\")\n",
    "else:\n",
    "    print(\"It is not matching\")"
   ]
  },
  {
   "cell_type": "code",
   "execution_count": 16,
   "metadata": {},
   "outputs": [
    {
     "name": "stdout",
     "output_type": "stream",
     "text": [
      "It is found\n"
     ]
    }
   ],
   "source": [
    "# 14. Write a Python program to match a string that contains only upper and lowercase letters, numbers, and underscores.\n",
    "\n",
    "pattern=\"[a-zA-Z0-9_]+\"\n",
    "string=\"Test123_\"\n",
    "\n",
    "s=bool(re.search(pattern,string))\n",
    "\n",
    "if s:\n",
    "    print(\"It is found\")\n",
    "else:\n",
    "    print(\"It is not matching\")"
   ]
  },
  {
   "cell_type": "code",
   "execution_count": 21,
   "metadata": {},
   "outputs": [
    {
     "name": "stdout",
     "output_type": "stream",
     "text": [
      "It is found\n"
     ]
    }
   ],
   "source": [
    "# 15. Write a Python program where a string will start with a specific number\n",
    "\n",
    "specificnumber=198\n",
    "\n",
    "pattern=f\"^{specificnumber}.*\"\n",
    "\n",
    "string=\"198testing\"\n",
    "\n",
    "s=bool(re.search(pattern,string))\n",
    "\n",
    "if s:\n",
    "    print(\"It is found\")\n",
    "else:\n",
    "    print(\"It is not matching\")"
   ]
  },
  {
   "cell_type": "code",
   "execution_count": 64,
   "metadata": {},
   "outputs": [
    {
     "name": "stdout",
     "output_type": "stream",
     "text": [
      "198.1.990\n"
     ]
    }
   ],
   "source": [
    "# 16. Write a Python program to remove leading zeros from an IP address\n",
    "\n",
    "string=\"198.001.990\"\n",
    "\n",
    "newstring=re.sub(\"\\.0*\",\".\",string)\n",
    "# \\.0* -> finds all '.' which has zero or more number of '0'\n",
    "# Replaces the above found matches with '.'\n",
    "# All of this operations are done on the variable 'string'\n",
    "\n",
    "print(newstring)"
   ]
  },
  {
   "cell_type": "code",
   "execution_count": 66,
   "metadata": {},
   "outputs": [
    {
     "name": "stdout",
     "output_type": "stream",
     "text": [
      "Match is found\n"
     ]
    }
   ],
   "source": [
    "# 17. Write a Python program to check for a number at the end of a string\n",
    "\n",
    "number=90\n",
    "\n",
    "string=\"hehe909090909090\"\n",
    "\n",
    "pattern=f\"{number}+$\"\n",
    "\n",
    "s=re.search(pattern,string)\n",
    "\n",
    "if s:\n",
    "    print(\"Match is found\")\n",
    "else: \n",
    "    print(\"Match is not found\")\n"
   ]
  },
  {
   "cell_type": "code",
   "execution_count": 68,
   "metadata": {},
   "outputs": [
    {
     "name": "stdout",
     "output_type": "stream",
     "text": [
      "It is not a match\n"
     ]
    }
   ],
   "source": [
    "# 18. Write a Python program to search the numbers (0-9) of length between 1 to 3 in a given string. \"Exercises number 1, 12, 13, and 345 are important\"\n",
    "\n",
    "string=\"Exercises number 1, 12, 13, and 345 are important\"\n",
    "\n",
    "pattern=\"[0-9]{1,3}\"\n",
    "\n",
    "s=(re.findall(pattern,string))\n",
    "c=0#3\n",
    "for i in s:\n",
    "    if len(i)==1 and c==0:\n",
    "        c+=1\n",
    "    elif len(i)==2 and c==1:\n",
    "        c+=1\n",
    "    elif len(i)==3 and c==2:\n",
    "        c+=1\n",
    "if re.search(pattern,string) and c==3:\n",
    "    print(\"It is a match\") \n",
    "else:\n",
    "    print(\"It is not a match\")\n"
   ]
  },
  {
   "cell_type": "code",
   "execution_count": 55,
   "metadata": {},
   "outputs": [
    {
     "name": "stdout",
     "output_type": "stream",
     "text": [
      "fox has found in the given sample\n",
      "dog has found in the given sample\n",
      "horse has not been found in the given sample\n"
     ]
    }
   ],
   "source": [
    "'''\n",
    "19. Write a Python program to search some literals strings in a string.\n",
    "Sample text : 'The quick brown fox jumps over the lazy dog.'\n",
    "Searched words : 'fox', 'dog', 'horse\n",
    "'''\n",
    "\n",
    "sample='The quick brown fox jumps over the lazy dog.'\n",
    "words=['fox','dog','horse']\n",
    "for i in words:\n",
    "    pattern=f\"{i}+\"\n",
    "    if re.search(pattern,sample):\n",
    "        print(f\"{i} has found in the given sample\")\n",
    "    else:\n",
    "        print(f\"{i} has not been found in the given sample\")\n"
   ]
  },
  {
   "cell_type": "code",
   "execution_count": 69,
   "metadata": {},
   "outputs": [
    {
     "name": "stdout",
     "output_type": "stream",
     "text": [
      "<re.Match object; span=(16, 19), match='fox'> is found\n"
     ]
    }
   ],
   "source": [
    "'''\n",
    "20. Write a Python program to search a literals string in a string and also find the location\n",
    "within the original string where the pattern occurs. Sample text : 'The quick brown fox jumps\n",
    "over the lazy dog.'\n",
    "Searched words : 'fox'\n",
    "'''\n",
    "sample='The quick brown fox jumps over the lazy dog.'\n",
    "pattern='fox'\n",
    "if re.search(pattern,sample):\n",
    "    print(\"is found')\n",
    "else:\n",
    "    print(\"Not found\")\n"
   ]
  }
 ],
 "metadata": {
  "kernelspec": {
   "display_name": "Python 3 (ipykernel)",
   "language": "python",
   "name": "python3"
  },
  "language_info": {
   "codemirror_mode": {
    "name": "ipython",
    "version": 3
   },
   "file_extension": ".py",
   "mimetype": "text/x-python",
   "name": "python",
   "nbconvert_exporter": "python",
   "pygments_lexer": "ipython3",
   "version": "3.10.10"
  },
  "vscode": {
   "interpreter": {
    "hash": "e7370f93d1d0cde622a1f8e1c04877d8463912d04d973331ad4851f04de6915a"
   }
  }
 },
 "nbformat": 4,
 "nbformat_minor": 2
}
