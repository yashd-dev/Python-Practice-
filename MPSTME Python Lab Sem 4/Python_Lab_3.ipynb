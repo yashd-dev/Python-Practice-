{
  "cells": [
    {
      "cell_type": "markdown",
      "metadata": {
        "id": "GcE11zFW4Npt"
      },
      "source": [
        "# 1) Write a code for the following: (String Operations)"
      ]
    },
    {
      "cell_type": "markdown",
      "metadata": {
        "id": "nY0dtXFk4Npw"
      },
      "source": [
        "Reverse a sentence accepted as input by User"
      ]
    },
    {
      "cell_type": "code",
      "execution_count": null,
      "metadata": {
        "colab": {
          "base_uri": "https://localhost:8080/"
        },
        "id": "v8eGy_fe4Npw",
        "outputId": "27accdff-d821-4018-82e4-c66c2bbc53f4"
      },
      "outputs": [
        {
          "name": "stdout",
          "output_type": "stream",
          "text": [
            "Enter a Sentence to Reverse it: I am amazing\n",
            "amazing am I "
          ]
        }
      ],
      "source": [
        "user_input = input(\"Enter a Sentence to Reverse it: \")\n",
        "lis = user_input.split()\n",
        "for i in lis[::-1]: \n",
        "    print(i, end=\" \")"
      ]
    },
    {
      "cell_type": "markdown",
      "metadata": {
        "id": "7QzJtbIv4Npy"
      },
      "source": [
        "Find the characters at an odd position in string input by User"
      ]
    },
    {
      "cell_type": "code",
      "execution_count": null,
      "metadata": {
        "colab": {
          "base_uri": "https://localhost:8080/"
        },
        "id": "SEt1pRbG4Npz",
        "outputId": "ca5eb2e9-44b5-4d0c-8514-2b317b69a1ec"
      },
      "outputs": [
        {
          "name": "stdout",
          "output_type": "stream",
          "text": [
            "Enter a Sentence to find characters at odd positions: Naitik\n",
            "N\n",
            "i\n",
            "i\n"
          ]
        }
      ],
      "source": [
        "user_input = input(\"Enter a Sentence to find characters at odd positions: \")\n",
        "for i in user_input[::2]:\n",
        "    print(i)"
      ]
    },
    {
      "cell_type": "markdown",
      "metadata": {
        "id": "_PXGo8ju4Np0"
      },
      "source": [
        "Check string starts with a specific character entered by the user."
      ]
    },
    {
      "cell_type": "code",
      "execution_count": null,
      "metadata": {
        "colab": {
          "base_uri": "https://localhost:8080/"
        },
        "id": "qloK8QM-4Np1",
        "outputId": "f1ed2d0e-f437-4bd1-eb67-319a89162312"
      },
      "outputs": [
        {
          "name": "stdout",
          "output_type": "stream",
          "text": [
            "Enter a String to check for a specific character at start: Thane\n",
            "Enter a string to search for: T\n",
            "It is found\n"
          ]
        }
      ],
      "source": [
        "user_input = input(\"Enter a String to check for a specific character at start: \")\n",
        "search = input(\"Enter a string to search for: \")\n",
        "if user_input[0] == search: # Or use startswith()\n",
        "    print(\"It is found\")\n",
        "else:\n",
        "    print(\"Not Found\")"
      ]
    },
    {
      "cell_type": "markdown",
      "metadata": {
        "id": "X-6dG-Gh4Np1"
      },
      "source": [
        "Remove all newlines from the String"
      ]
    },
    {
      "cell_type": "code",
      "execution_count": null,
      "metadata": {
        "colab": {
          "base_uri": "https://localhost:8080/"
        },
        "id": "wuxFWdJ-4Np2",
        "outputId": "2cb33d93-08ce-4be3-91e5-e5c5fe3384a3"
      },
      "outputs": [
        {
          "name": "stdout",
          "output_type": "stream",
          "text": [
            "Hello World\n"
          ]
        }
      ],
      "source": [
        "user_input =\"\"\"\n",
        "Hello \n",
        "World\n",
        "\"\"\" #input(\"Enter a String: \")\n",
        "new_str=user_input.replace(\"\\n\",\"\")\n",
        "print(new_str)\n"
      ]
    },
    {
      "cell_type": "markdown",
      "metadata": {
        "id": "AokK0per4Np3"
      },
      "source": [
        "Different ways to get the filename without extension"
      ]
    },
    {
      "cell_type": "code",
      "execution_count": null,
      "metadata": {
        "colab": {
          "base_uri": "https://localhost:8080/"
        },
        "id": "P998Gmhn4Np3",
        "outputId": "f994afef-f74e-4f30-ccb3-ffbf88a18369"
      },
      "outputs": [
        {
          "name": "stdout",
          "output_type": "stream",
          "text": [
            "Enter a filename: hello.world.py\n",
            "Using rindex:  hello.world\n",
            "Using rsplit hello.world\n"
          ]
        }
      ],
      "source": [
        "user_input = input(\"Enter a filename: \")\n",
        "index = user_input.rindex(\".\")\n",
        "print(\"Using rindex: \", user_input[:index:])\n",
        "print(\"Using rsplit\", user_input.rsplit(\".\", maxsplit=1)[0])\n"
      ]
    },
    {
      "cell_type": "markdown",
      "metadata": {
        "id": "7pp6FJos4Np4"
      },
      "source": [
        "Replace all occurrence of substring in string"
      ]
    },
    {
      "cell_type": "code",
      "execution_count": null,
      "metadata": {
        "colab": {
          "base_uri": "https://localhost:8080/"
        },
        "id": "NKUun5CL4Np4",
        "outputId": "5cbfe861-f56b-4be6-ccf9-505aee472357"
      },
      "outputs": [
        {
          "name": "stdout",
          "output_type": "stream",
          "text": [
            "Enter a String: Yash Deshpande\n",
            "Enter a Substring to find: a\n",
            "Enter a Substring to replace with: Z\n",
            "YZsh DeshpZnde\n"
          ]
        }
      ],
      "source": [
        "import re\n",
        "user_input = input(\"Enter a String: \")\n",
        "finding = input(\"Enter a Substring to find: \")\n",
        "replace = input(\"Enter a Substring to replace with: \")\n",
        "print(re.sub(finding, replace, user_input, flags=re.IGNORECASE))\n"
      ]
    },
    {
      "cell_type": "markdown",
      "metadata": {
        "id": "DpKpH6B44Np5"
      },
      "source": [
        "Remove punctuation mark from list of string"
      ]
    },
    {
      "cell_type": "code",
      "execution_count": null,
      "metadata": {
        "colab": {
          "base_uri": "https://localhost:8080/"
        },
        "id": "z3-Egol54Np5",
        "outputId": "b63b0c1f-8842-41c1-d8b6-63d9ac5ef84a"
      },
      "outputs": [
        {
          "name": "stdout",
          "output_type": "stream",
          "text": [
            "Enter a StringYou! are! amazing!!!!!?><!@#$%^&*()\n",
            "You are amazing\n"
          ]
        }
      ],
      "source": [
        "import string\n",
        "result = string.punctuation\n",
        "user_input = input(\"Enter a String: \")\n",
        "no_punct = \"\"\n",
        "for i in user_input:\n",
        "    if i not in result:\n",
        "        no_punct += i\n",
        "print(no_punct)\n"
      ]
    },
    {
      "cell_type": "markdown",
      "metadata": {
        "id": "P1exk7EA4Np5"
      },
      "source": [
        "Find the number of matching characters in two string"
      ]
    },
    {
      "cell_type": "code",
      "execution_count": null,
      "metadata": {
        "colab": {
          "base_uri": "https://localhost:8080/"
        },
        "id": "3rfWK0__4Np6",
        "outputId": "777b4070-1849-4db3-be35-160aa81efd85"
      },
      "outputs": [
        {
          "name": "stdout",
          "output_type": "stream",
          "text": [
            "Enter a String 1: Bomb\n",
            "Enter a String 2: Comb\n",
            "The number of common Elements are: 3\n"
          ]
        }
      ],
      "source": [
        "user_input1 = input(\"Enter a String 1: \")\n",
        "user_input2 = input(\"Enter a String 2: \")\n",
        "c = 0\n",
        "for i in user_input1:\n",
        "    if i in user_input2:\n",
        "        c += 1\n",
        "print(f\"The number of common Elements are: {c}\")\n"
      ]
    },
    {
      "cell_type": "markdown",
      "metadata": {
        "id": "UXW8N7Ex4Np6"
      },
      "source": [
        "Convert a string into a list."
      ]
    },
    {
      "cell_type": "code",
      "execution_count": null,
      "metadata": {
        "colab": {
          "base_uri": "https://localhost:8080/"
        },
        "id": "vxe8y2824Np6",
        "outputId": "726b7a4d-3aa8-4bec-ede2-9362ee40eaf8"
      },
      "outputs": [
        {
          "name": "stdout",
          "output_type": "stream",
          "text": [
            "Enter a Sentence: We are going for a holiday\n",
            "['We', 'are', 'going', 'for', 'a', 'holiday']\n",
            "\n",
            "['W', 'e', ' ', 'a', 'r', 'e', ' ', 'g', 'o', 'i', 'n', 'g', ' ', 'f', 'o', 'r', ' ', 'a', ' ', 'h', 'o', 'l', 'i', 'd', 'a', 'y']\n"
          ]
        }
      ],
      "source": [
        "user_input = input(\"Enter a Sentence: \")\n",
        "lis = user_input.split()  # String to List eith each words\n",
        "print(lis)\n",
        "print()\n",
        "lis = []  # String to List eith each characters\n",
        "for i in user_input:\n",
        "      lis.append(i)\n",
        "print(lis)\n"
      ]
    },
    {
      "cell_type": "markdown",
      "metadata": {
        "id": "lNJbYeEt4Np7"
      },
      "source": [
        "To find the Domain name from a string"
      ]
    },
    {
      "cell_type": "code",
      "execution_count": null,
      "metadata": {
        "colab": {
          "base_uri": "https://localhost:8080/"
        },
        "id": "-nFKcmtP4Np7",
        "outputId": "adfedbc7-eae6-4b59-e6ab-a81e845c6b63"
      },
      "outputs": [
        {
          "name": "stdout",
          "output_type": "stream",
          "text": [
            "Enter a URL: https://www.google.com/\n",
            "google\n"
          ]
        }
      ],
      "source": [
        "# ASSUMING THAT URL STARTS WITH WWW or HTTPS or HTTP AND NO SUBDOMAIN IS PRESENT\n",
        "url = input(\"Enter a URL: \")\n",
        "url = url.split(\".\")\n",
        "for i in url:\n",
        "    if i == \"www\":\n",
        "        ind = url.index(i)\n",
        "        print(url[ind+1])\n",
        "        break\n",
        "    elif (i == \"www\" and (i[0:8] != \"https://\" or i[0:7] != \"http:/\")):\n",
        "        print(i != \"www\")\n",
        "        print(url[0])\n",
        "        break\n",
        "    else:\n",
        "        k = i.rfind(\"/\")\n",
        "        if i[k+1:len(i)] == \"www\":\n",
        "            print(url[1])\n",
        "            break\n",
        "        else:\n",
        "            print(i[k+1:len(i)])\n",
        "            break\n"
      ]
    },
    {
      "cell_type": "markdown",
      "metadata": {
        "id": "78kPtXDX4Np8"
      },
      "source": [
        "To convert all string elements of the list to int."
      ]
    },
    {
      "cell_type": "code",
      "execution_count": null,
      "metadata": {
        "id": "x-v_vYgK4Np8",
        "outputId": "ffcfc832-cb00-4f94-aee1-46f1bbb3bd75"
      },
      "outputs": [
        {
          "name": "stdout",
          "output_type": "stream",
          "text": [
            "Enter The Integer Element: \n",
            "['1', '2', '3']\n",
            "[1, 2, 3]\n"
          ]
        }
      ],
      "source": [
        "num = int(input(\"Enter The number of inputs\"))\n",
        "str_list = []\n",
        "print(\"Enter The Integer Element: \")\n",
        "for i in range(num):\n",
        "    str_list.append(input())  # Or just typecast it to int\n",
        "print(str_list)\n",
        "str_list = [int(n) for n in str_list]\n",
        "print(str_list)\n"
      ]
    },
    {
      "cell_type": "markdown",
      "metadata": {
        "id": "p5rrZzzq4Np9"
      },
      "source": [
        "Count Total numbers of upper case and lower case characters in input string"
      ]
    },
    {
      "cell_type": "code",
      "execution_count": null,
      "metadata": {
        "id": "nbvlnJL74Np9",
        "outputId": "844655bb-2821-4e7e-c82e-b8e937db663c"
      },
      "outputs": [
        {
          "name": "stdout",
          "output_type": "stream",
          "text": [
            "In The string Yasah DeshPande There are: \n",
            "11 Lowercase letters \n",
            "3 Uppercase letters\n"
          ]
        }
      ],
      "source": [
        "str = input(\"Enter a string to Count Total numbers of upper case and lower case characters in input string \")\n",
        "low = 0\n",
        "upper = 0\n",
        "for i in str:\n",
        "    if i.islower():\n",
        "        low += 1\n",
        "    elif i.isupper():\n",
        "        upper += 1\n",
        "print(f\"In The string {str} There are: \\n{low} Lowercase letters \\n{upper} Uppercase letters\")\n"
      ]
    },
    {
      "cell_type": "markdown",
      "metadata": {
        "id": "p4tB-Bpn4Np9"
      },
      "source": [
        "To find vowels in a string"
      ]
    },
    {
      "cell_type": "code",
      "execution_count": null,
      "metadata": {
        "id": "F4uuJPMg4Np9",
        "outputId": "ffb3b185-27e9-4217-8b88-dcaafc67bd7d"
      },
      "outputs": [
        {
          "name": "stdout",
          "output_type": "stream",
          "text": [
            "In The string I am Eish There are: \n",
            "4 Vowels\n"
          ]
        }
      ],
      "source": [
        "user_input = input(\"Enter a String\")\n",
        "lis = ['a', 'e', 'i', 'o', 'u']\n",
        "count = 0\n",
        "for i in user_input:\n",
        "    if i.lower() in lis:\n",
        "        count += 1\n",
        "print(f\"In The string {user_input} There are: \\n{count} Vowels\")\n"
      ]
    },
    {
      "cell_type": "markdown",
      "metadata": {
        "id": "sVgWp5lS4Np9"
      },
      "source": [
        "To reverse a user input string"
      ]
    },
    {
      "cell_type": "code",
      "execution_count": null,
      "metadata": {
        "colab": {
          "base_uri": "https://localhost:8080/"
        },
        "id": "WjAa4_5H4Np9",
        "outputId": "a1937d78-7584-4a62-f596-c271de8cb772"
      },
      "outputs": [
        {
          "name": "stdout",
          "output_type": "stream",
          "text": [
            "Enter a String: snape\n",
            "epans\n"
          ]
        }
      ],
      "source": [
        "user_input = input(\"Enter a String: \")\n",
        "print(user_input[::-1])"
      ]
    },
    {
      "cell_type": "markdown",
      "metadata": {
        "id": "zAQq-4Rb4Np-"
      },
      "source": [
        "To sort a string in Python"
      ]
    },
    {
      "cell_type": "code",
      "execution_count": null,
      "metadata": {
        "colab": {
          "base_uri": "https://localhost:8080/"
        },
        "id": "gn77Lx314Np-",
        "outputId": "e6e0987d-5a04-41dc-bed8-cfdcfa73b860"
      },
      "outputs": [
        {
          "name": "stdout",
          "output_type": "stream",
          "text": [
            "Enter a String: String\n",
            "['S', 'g', 'i', 'n', 'r', 't']\n",
            "Sginrt\n"
          ]
        }
      ],
      "source": [
        "user_input = input(\"Enter a String: \")\n",
        "lis = [user_input[i] for i in range(len(user_input))]\n",
        "lis.sort()\n",
        "user_input=\"\".join(lis)\n",
        "# for i in lis:\n",
        "#     user_input+=i\n",
        "print(f\"{lis}\\n{user_input}\")\n"
      ]
    },
    {
      "cell_type": "markdown",
      "metadata": {
        "id": "4OPPLv_I4Np-"
      },
      "source": [
        "To print input string in upper case and lower case"
      ]
    },
    {
      "cell_type": "code",
      "execution_count": null,
      "metadata": {
        "colab": {
          "base_uri": "https://localhost:8080/"
        },
        "id": "h1FOF0hi4Np-",
        "outputId": "9167bcf5-4df3-4080-ff57-a834f029fc72"
      },
      "outputs": [
        {
          "name": "stdout",
          "output_type": "stream",
          "text": [
            "Enter a String: Oompa Loompa\n",
            "String \"Oompa Loompa\" in\n",
            "Uppercase: OOMPA LOOMPA\n",
            "Lowercase: oompa loompa\n",
            "Mix: oOMPA lOOMPA\n"
          ]
        }
      ],
      "source": [
        "user_input = input(\"Enter a String: \")\n",
        "print(f\"String \\\"{user_input}\\\" in\\nUppercase: {user_input.upper()}\\nLowercase: {user_input.lower()}\\nMix: {user_input.swapcase()}\")\n"
      ]
    },
    {
      "cell_type": "markdown",
      "metadata": {
        "id": "g299FNMo4Np_"
      },
      "source": [
        "Convert Int To String In Python"
      ]
    },
    {
      "cell_type": "code",
      "execution_count": null,
      "metadata": {
        "id": "MuXQkaEO4Np_",
        "outputId": "d27213a5-4bb5-4eaf-ad16-cad185dc1232"
      },
      "outputs": [
        {
          "name": "stdout",
          "output_type": "stream",
          "text": [
            "90 is a <class 'int'>\n",
            "90 is a <class 'str'>\n"
          ]
        }
      ],
      "source": [
        "num = 90\n",
        "print(f\"{num} is a {type(num)}\")\n",
        "new_num = str(num)\n",
        "print(f\"{new_num} is a {type(new_num)}\")\n"
      ]
    },
    {
      "cell_type": "markdown",
      "metadata": {
        "id": "Dc7EblQS4Np_"
      },
      "source": [
        "# Create a list in python for storing supermarket bill details and perform the following operations on it:"
      ]
    },
    {
      "cell_type": "code",
      "execution_count": null,
      "metadata": {
        "colab": {
          "base_uri": "https://localhost:8080/"
        },
        "id": "ZPqgcUPe4Np_",
        "outputId": "e4d56729-6ddd-4f72-eca2-c59c9f962664"
      },
      "outputs": [
        {
          "name": "stdout",
          "output_type": "stream",
          "text": [
            "Enter The number of inputs: 3\n",
            "Enter The Elements: \n",
            "Bhel\n",
            "Chips\n",
            "Coke\n",
            "\n",
            "\n",
            "-----------------------------------\n",
            "\n",
            "\n",
            "List indices\n",
            "Index value: 0 Element: Bhel\n",
            "Index value: 1 Element: Chips\n",
            "Index value: 2 Element: Coke\n",
            "\n",
            "\n",
            "-----------------------------------\n",
            "\n",
            "\n",
            "Enter item to be addedKitKat\n",
            "Add an item to the end of the list\n",
            "Index value: 0 Element: Bhel\n",
            "Index value: 1 Element: Chips\n",
            "Index value: 2 Element: Coke\n",
            "Index value: 3 Element: KitKat\n",
            "\n",
            "\n",
            "-----------------------------------\n",
            "\n",
            "\n",
            "Insert an item at a given position\n",
            "Index value: 0 Element: Bhel\n",
            "Index value: 1 Element: Chips\n",
            "Index value: 2 Element: Kiwi\n",
            "Index value: 3 Element: KitKat\n",
            "\n",
            "\n",
            "-----------------------------------\n",
            "\n",
            "\n",
            "Modify an element by using the index of the element\n",
            "Index value: 0 Element: Bhel\n",
            "Index value: 1 Element: grape\n",
            "Index value: 2 Element: Kiwi\n",
            "Index value: 3 Element: KitKat\n",
            "\n",
            "\n",
            "-----------------------------------\n",
            "\n",
            "\n",
            "Remove an item from the list\n",
            "Index value: 0 Element: grape\n",
            "Index value: 1 Element: Kiwi\n",
            "Index value: 2 Element: KitKat\n",
            "\n",
            "\n",
            "-----------------------------------\n",
            "\n",
            "\n",
            "Slice Elements in a List\n",
            "['bananas', 'mangoes', 'grapes']\n",
            "\n",
            "\n",
            "-----------------------------------\n",
            "\n",
            "\n",
            "Remove the item at the given position in the list, and return it\n",
            "Index value: 0 Element: oranges\n",
            "Index value: 1 Element: bananas\n",
            "Index value: 2 Element: mangoes\n",
            "Index value: 3 Element: grapes\n",
            "Index value: 4 Element: strawberry\n",
            "Element removed apples\n",
            "\n",
            "\n",
            "-----------------------------------\n",
            "\n",
            "\n",
            "Index of mangoes is 2\n",
            "\n",
            "\n",
            "-----------------------------------\n",
            "\n",
            "\n",
            "bananas appeared 2 times in the list \n",
            "Sort the items of the list in place\n",
            "\n",
            "\n",
            "-----------------------------------\n",
            "\n",
            "\n",
            "Index value: 0 Element: bananas\n",
            "Index value: 1 Element: bananas\n",
            "Index value: 2 Element: grapes\n",
            "Index value: 3 Element: mangoes\n",
            "Index value: 4 Element: oranges\n",
            "Index value: 5 Element: strawberry\n",
            "Reverse the elements of the list in place\n",
            "\n",
            "\n",
            "-----------------------------------\n",
            "\n",
            "\n",
            "Index value: 0 Element: strawberry\n",
            "Index value: 1 Element: oranges\n",
            "Index value: 2 Element: mangoes\n",
            "Index value: 3 Element: grapes\n",
            "Index value: 4 Element: bananas\n",
            "Index value: 5 Element: bananas\n"
          ]
        }
      ],
      "source": [
        "def newline():\n",
        "    print(\"\\n\\n-----------------------------------\\n\\n\")\n",
        "\n",
        "\n",
        "def values(elements):\n",
        "    for i in range(len(elements)):\n",
        "        print(f\"Index value: {i} Element: {elements[i]}\")\n",
        "# List indices\n",
        "\n",
        "\n",
        "elements = []\n",
        "num = int(input(\"Enter The number of inputs: \"))\n",
        "print(\"Enter The Elements: \")\n",
        "for i in range(num):\n",
        "    elements.append(input())\n",
        "newline()\n",
        "print(\"List indices\")\n",
        "values(elements)\n",
        "\n",
        "# Add an item to the end of the list\n",
        "newline()\n",
        "added = input(\"Enter item to be added\")\n",
        "elements.append(added)\n",
        "print(\"Add an item to the end of the list\")\n",
        "values(elements)\n",
        "\n",
        "\n",
        "# Insert an item at a given position\n",
        "index = 2\n",
        "item = \"Kiwi\"\n",
        "elements.insert(index,item)\n",
        "newline()\n",
        "\n",
        "print(\"Insert an item at a given position\")\n",
        "values(elements)\n",
        "\n",
        "\n",
        "# Modify an element by using the index of the element\n",
        "index = 1\n",
        "mod = \"grape\"\n",
        "elements[index] = mod\n",
        "newline()\n",
        "print(\"Modify an element by using the index of the element\")\n",
        "values(elements)\n",
        "\n",
        "# Remove an item from the list\n",
        "index = 0\n",
        "elements.pop(index)\n",
        "newline()\n",
        "print(\"Remove an item from the list\")\n",
        "values(elements)\n",
        "\n",
        "# Remove all items from the list\n",
        "elements.clear()  # Or jus make it elements=[]\n",
        "\n",
        "# Slice Elements from a List\n",
        "elements = ['apples', 'oranges', 'bananas', 'mangoes', 'grapes', 'strawberry']\n",
        "newline()\n",
        "print(\"Slice Elements in a List\")\n",
        "print(elements[2:5])\n",
        "\n",
        "# Remove the item at the given position in the list, and return it\n",
        "index = 0\n",
        "element = elements[index]\n",
        "elements.remove(element)\n",
        "newline()\n",
        "print(\"Remove the item at the given position in the list, and return it\")\n",
        "values(elements)\n",
        "print(f\"Element removed {element}\")\n",
        "\n",
        "# Return the index in the list of the first item whose value is x\n",
        "newline()\n",
        "element = \"mangoes\"\n",
        "print(f\"Index of {element} is {elements.index(element)}\")\n",
        "\n",
        "elements.append(\"bananas\")\n",
        "\n",
        "# Return the number of times 'x' appear in the list\n",
        "newline()\n",
        "element = \"bananas\"\n",
        "c = 0\n",
        "for i in elements:\n",
        "    if i == element:\n",
        "        c = c+1\n",
        "print(f\"{element} appeared {c} times in the list \")\n",
        "\n",
        "# Sort the items of the list in place\n",
        "print(\"Sort the items of the list in place\")\n",
        "elements.sort()\n",
        "newline()\n",
        "values(elements)\n",
        "\n",
        "# Reverse the elements of the list in place\n",
        "print(\"Reverse the elements of the list in place\")\n",
        "elements.reverse()\n",
        "newline()\n",
        "values(elements)\n"
      ]
    },
    {
      "cell_type": "markdown",
      "metadata": {
        "id": "757lU_4r4NqA"
      },
      "source": [
        "# 3) Write a python program to count unique values inside a list"
      ]
    },
    {
      "cell_type": "code",
      "execution_count": null,
      "metadata": {
        "colab": {
          "base_uri": "https://localhost:8080/"
        },
        "id": "CAED3pGh4NqA",
        "outputId": "14c2c507-9dd4-4693-932d-6b166884664c"
      },
      "outputs": [
        {
          "name": "stdout",
          "output_type": "stream",
          "text": [
            "Enter The number of inputs: 5\n",
            "Enter The Element\n",
            "a\n",
            "b\n",
            "c\n",
            "a\n",
            "c\n",
            "Number of unique values in list are: 3\n"
          ]
        }
      ],
      "source": [
        "elements = []\n",
        "num = int(input(\"Enter The number of inputs: \"))\n",
        "print(\"Enter The Element\")\n",
        "for i in range(num):\n",
        "    elements.append(input())\n",
        "unique = []\n",
        "count=0\n",
        "for i in elements:\n",
        "    if i not in unique:\n",
        "        unique.append(i)\n",
        "        count += 1\n",
        "print(f\"Number of unique values in list are: {count}\")\n"
      ]
    },
    {
      "cell_type": "markdown",
      "metadata": {
        "id": "msb3r1nF4NqA"
      },
      "source": [
        "# 4) Write a python program to print a list excluding the duplicates"
      ]
    },
    {
      "cell_type": "code",
      "execution_count": null,
      "metadata": {
        "colab": {
          "base_uri": "https://localhost:8080/"
        },
        "id": "fbVy3nzU4NqA",
        "outputId": "b9ac8f4a-0874-4680-ffdb-e258a493b11e"
      },
      "outputs": [
        {
          "name": "stdout",
          "output_type": "stream",
          "text": [
            "Enter The number of inputs: 5\n",
            "Enter The Elements: \n",
            "1\n",
            "2\n",
            "1\n",
            "4\n",
            "4\n",
            "['1', '2', '1', '4', '4']\n",
            "['1', '2', '4']\n"
          ]
        }
      ],
      "source": [
        "elements = []\n",
        "num = int(input(\"Enter The number of inputs: \"))\n",
        "print(\"Enter The Elements: \")\n",
        "for i in range(num):\n",
        "    elements.append(input())\n",
        "print(elements)\n",
        "elements = list(set(elements))\n",
        "print(elements)\n"
      ]
    },
    {
      "cell_type": "markdown",
      "metadata": {
        "id": "zzVPbZR74NqA"
      },
      "source": [
        "# 5) Write a python program to count positive and negative numbers in a list"
      ]
    },
    {
      "cell_type": "code",
      "execution_count": null,
      "metadata": {
        "colab": {
          "base_uri": "https://localhost:8080/"
        },
        "id": "qqs-ijkW4NqA",
        "outputId": "d6a130e7-f4b0-4f8a-caa2-a8cf28576b9e"
      },
      "outputs": [
        {
          "name": "stdout",
          "output_type": "stream",
          "text": [
            "Enter The number of inputs: 4\n",
            "Enter The Elements: \n",
            "1\n",
            "2\n",
            "-1\n",
            "-2\n",
            "Number of: \n",
            "Positive Numbers:2 \n",
            "Negative Numbers: 2\n"
          ]
        }
      ],
      "source": [
        "elements = []\n",
        "num = int(input(\"Enter The number of inputs: \"))\n",
        "print(\"Enter The Elements: \")\n",
        "for i in range(num):\n",
        "    elements.append(int(input()))\n",
        "positive = 0\n",
        "negative = 0\n",
        "for i in elements:\n",
        "    if i >= 0:\n",
        "        positive += 1\n",
        "    else:\n",
        "        negative += 1\n",
        "print(f\"Number of: \\nPositive Numbers:{positive} \\nNegative Numbers: {negative}\")"
      ]
    }
  ],
  "metadata": {
    "colab": {
      "provenance": []
    },
    "kernelspec": {
      "display_name": "Python 3",
      "language": "python",
      "name": "python3"
    },
    "language_info": {
      "codemirror_mode": {
        "name": "ipython",
        "version": 3
      },
      "file_extension": ".py",
      "mimetype": "text/x-python",
      "name": "python",
      "nbconvert_exporter": "python",
      "pygments_lexer": "ipython3",
      "version": "3.10.9 (main, Dec 19 2022, 17:35:49) [GCC 12.2.0]"
    },
    "orig_nbformat": 4,
    "vscode": {
      "interpreter": {
        "hash": "e7370f93d1d0cde622a1f8e1c04877d8463912d04d973331ad4851f04de6915a"
      }
    }
  },
  "nbformat": 4,
  "nbformat_minor": 0
}
