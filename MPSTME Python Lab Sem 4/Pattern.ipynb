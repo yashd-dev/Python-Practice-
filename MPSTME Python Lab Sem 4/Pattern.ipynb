{
 "cells": [
  {
   "cell_type": "markdown",
   "metadata": {},
   "source": [
    "### Yash Deshpande\n",
    "### Sem 4 BTI\n",
    "### B1 C003"
   ]
  },
  {
   "cell_type": "code",
   "execution_count": 6,
   "metadata": {},
   "outputs": [
    {
     "name": "stdout",
     "output_type": "stream",
     "text": [
      "\n",
      "1 \n",
      "1 2 \n",
      "1 2 3 \n",
      "1 2 3 4 \n",
      "1 2 3 4 5 \n"
     ]
    }
   ],
   "source": [
    "for i in range(6):\n",
    "    for j in range(1,i+1):#i=2\n",
    "        print(j,end=' ')\n",
    "    print()\n",
    "# PATTERN 1"
   ]
  },
  {
   "cell_type": "code",
   "execution_count": 12,
   "metadata": {},
   "outputs": [
    {
     "name": "stdout",
     "output_type": "stream",
     "text": [
      "A \n",
      "A B \n",
      "A B C \n",
      "A B C D \n",
      "A B C D E \n"
     ]
    }
   ],
   "source": [
    "c='A'#64\n",
    "for i in range(5):\n",
    "    c='A'\n",
    "    for j in range(0,i+1):\n",
    "        print(c,end=\" \")#ek bar\n",
    "        c=chr(ord(c) + 1)\n",
    "    print()\n",
    "# PATTERN 2"
   ]
  },
  {
   "cell_type": "code",
   "execution_count": 71,
   "metadata": {},
   "outputs": [
    {
     "name": "stdout",
     "output_type": "stream",
     "text": [
      "\n",
      "* \n",
      "* * \n",
      "* * * \n",
      "* * * * \n",
      "* * * * * \n"
     ]
    }
   ],
   "source": [
    "for i in range(6):\n",
    "    for j in range(1,i+1):\n",
    "        print(\"*\",end=' ')\n",
    "    print()\n",
    "# PATTERN 3"
   ]
  },
  {
   "cell_type": "code",
   "execution_count": 16,
   "metadata": {},
   "outputs": [
    {
     "name": "stdout",
     "output_type": "stream",
     "text": [
      "\n",
      "1 \n",
      "2 2 \n",
      "3 3 3 \n",
      "4 4 4 4 \n",
      "5 5 5 5 5 \n"
     ]
    }
   ],
   "source": [
    "for i in range(6):\n",
    "    for j in range(i):\n",
    "        print(i,end=' ')\n",
    "    print()\n",
    "# PATTERN 4"
   ]
  },
  {
   "cell_type": "code",
   "execution_count": 39,
   "metadata": {},
   "outputs": [
    {
     "name": "stdout",
     "output_type": "stream",
     "text": [
      "A \n",
      "B B \n",
      "C C C \n",
      "D D D D \n",
      "E E E E E \n"
     ]
    }
   ],
   "source": [
    "c='A'\n",
    "for i in range(5):\n",
    "    for j in range(0,i+1):\n",
    "        print(c,end=\" \")\n",
    "    print()\n",
    "    c=chr(ord(c) + 1)\n",
    "# PATTERN 5"
   ]
  },
  {
   "cell_type": "code",
   "execution_count": 17,
   "metadata": {},
   "outputs": [
    {
     "name": "stdout",
     "output_type": "stream",
     "text": [
      "     \n",
      "    * \n",
      "   * * \n",
      "  * * * \n",
      " * * * * \n",
      "* * * * * \n"
     ]
    }
   ],
   "source": [
    "for i in range(6):\n",
    "    for k in range((5-i)):#1\n",
    "        print(\" \",end=' ')\n",
    "    for j in range(1,i+1):#1,2\n",
    "        print(\"*\",end=' ')\n",
    "    print()\n",
    "# PATTERN 6"
   ]
  },
  {
   "cell_type": "code",
   "execution_count": 22,
   "metadata": {},
   "outputs": [
    {
     "name": "stdout",
     "output_type": "stream",
     "text": [
      "      \n",
      "     1 \n",
      "    1 2 \n",
      "   1 2 3 \n",
      "  1 2 3 4 \n",
      " 1 2 3 4 5 \n"
     ]
    }
   ],
   "source": [
    "for i in range(6):\n",
    "    for k in range(abs(6-i)):\n",
    "        print(end=' ')\n",
    "    for j in range(1,i+1):\n",
    "        print(j,end=' ')\n",
    "\n",
    "    print()\n",
    "# PATTERN 7"
   ]
  },
  {
   "cell_type": "code",
   "execution_count": 25,
   "metadata": {},
   "outputs": [
    {
     "name": "stdout",
     "output_type": "stream",
     "text": [
      "     \n",
      "    5 \n",
      "   4 5 \n",
      "  3 4 5 \n",
      " 2 3 4 5 \n",
      "1 2 3 4 5 \n"
     ]
    }
   ],
   "source": [
    "for i in range(6):\n",
    "    for k in range((5-i)):\n",
    "        print(end=' ')\n",
    "    for j in range(1,i+1):#1,3\n",
    "        print(j+(5-i),end=' ')\n",
    "    print()\n",
    "# PATTERN 8"
   ]
  },
  {
   "cell_type": "code",
   "execution_count": 66,
   "metadata": {},
   "outputs": [
    {
     "name": "stdout",
     "output_type": "stream",
     "text": [
      "      \n",
      "     A \n",
      "    A B \n",
      "   A B C \n",
      "  A B C D \n",
      " A B C D E \n"
     ]
    }
   ],
   "source": [
    "for i in range(6):\n",
    "    c='A'\n",
    "    for k in range(abs(6-i)):\n",
    "        print(end=' ')\n",
    "    for j in range(1,i+1):\n",
    "        print(c,end=' ')\n",
    "        c=chr(ord(c) + 1)\n",
    "    print()\n",
    "# PATTERN 9"
   ]
  },
  {
   "cell_type": "code",
   "execution_count": 24,
   "metadata": {},
   "outputs": [
    {
     "name": "stdout",
     "output_type": "stream",
     "text": [
      "     E \n",
      "    D E \n",
      "   C D E \n",
      "  B C D E \n",
      " A B C D E \n"
     ]
    }
   ],
   "source": [
    "c=\"A\"\n",
    "for i in range(5,0,-1):\n",
    "    for k in range(i):\n",
    "        print(end=' ')\n",
    "    for j in range(i,6):#5,6\n",
    "        print(chr(ord(c)+j-1),end=' ')\n",
    "    print()\n",
    "# PATTERN 10\n"
   ]
  },
  {
   "cell_type": "code",
   "execution_count": 32,
   "metadata": {},
   "outputs": [
    {
     "name": "stdout",
     "output_type": "stream",
     "text": [
      "          \n",
      "        * * \n",
      "      * * * * \n",
      "    * * * * * * \n",
      "  * * * * * * * * \n"
     ]
    }
   ],
   "source": [
    "for i in range(0,10,2):\n",
    "    for k in range(abs(10-i)):\n",
    "        print(end=' ')\n",
    "    for j in range(1,i+1):\n",
    "        print(\"*\",end=' ')\n",
    "    print()\n",
    "# PATTERN 11"
   ]
  },
  {
   "cell_type": "code",
   "execution_count": 74,
   "metadata": {},
   "outputs": [
    {
     "name": "stdout",
     "output_type": "stream",
     "text": [
      "     \n",
      "    1 \n",
      "   2 2 \n",
      "  3 3 3 \n",
      " 4 4 4 4 \n",
      "5 5 5 5 5 \n"
     ]
    }
   ],
   "source": [
    "for i in range(6):\n",
    "    for k in range(abs(5-i)):\n",
    "        print(end=' ')\n",
    "    for j in range(1,i+1):\n",
    "        print(i,end=' ')\n",
    "    print()\n",
    "# PATTERN 12"
   ]
  },
  {
   "cell_type": "code",
   "execution_count": 84,
   "metadata": {},
   "outputs": [
    {
     "name": "stdout",
     "output_type": "stream",
     "text": [
      "     A \n",
      "    B B \n",
      "   C C C \n",
      "  D D D D \n",
      " E E E E E \n"
     ]
    }
   ],
   "source": [
    "c='A'\n",
    "for i in range(5):\n",
    "    for k in range(abs(5-i)):\n",
    "        print(end=' ')\n",
    "    for j in range(i+1):\n",
    "        print(c,end=' ')\n",
    "    c=chr(ord(c)+1)\n",
    "    print()\n",
    "# PATTERN 13"
   ]
  },
  {
   "cell_type": "code",
   "execution_count": 55,
   "metadata": {},
   "outputs": [
    {
     "name": "stdout",
     "output_type": "stream",
     "text": [
      "1 2 3 4 5 \n",
      "1 2 3 4 \n",
      "1 2 3 \n",
      "1 2 \n",
      "1 \n",
      "\n"
     ]
    }
   ],
   "source": [
    "for i in range(6,0,-1):\n",
    "    for j in range(1,i):\n",
    "        print(j,end=' ')\n",
    "    print()\n",
    "#Pattern 14"
   ]
  },
  {
   "cell_type": "code",
   "execution_count": 89,
   "metadata": {},
   "outputs": [
    {
     "name": "stdout",
     "output_type": "stream",
     "text": [
      "5 4 3 2 1 \n",
      "5 4 3 2 \n",
      "5 4 3 \n",
      "5 4 \n",
      "5 \n"
     ]
    }
   ],
   "source": [
    "for i in range(5):\n",
    "    for j in range(5,i,-1):\n",
    "        print(j,end=' ')\n",
    "    print()\n",
    "#Pattern 15"
   ]
  },
  {
   "cell_type": "code",
   "execution_count": 6,
   "metadata": {},
   "outputs": [
    {
     "name": "stdout",
     "output_type": "stream",
     "text": [
      "5 \n",
      "5 4 \n",
      "5 4 3 \n",
      "5 4 3 2 \n",
      "5 4 3 2 1 \n"
     ]
    }
   ],
   "source": [
    "for i in range(5,0,-1):\n",
    "    for j in range(5,i-1,-1):\n",
    "        print(j,end=\" \")\n",
    "    print()\n",
    "#Pattern 16"
   ]
  },
  {
   "cell_type": "code",
   "execution_count": 7,
   "metadata": {},
   "outputs": [
    {
     "name": "stdout",
     "output_type": "stream",
     "text": [
      "\n",
      "1 \n",
      "2 3 \n",
      "4 5 6 \n",
      "7 8 9 10 \n",
      "11 12 13 14 15 \n"
     ]
    }
   ],
   "source": [
    "k=1\n",
    "for i in range(6):\n",
    "    for j in range(1,i+1):\n",
    "        print(k,end=' ')\n",
    "        k+=1\n",
    "    print()\n",
    "# PATTERN 17"
   ]
  },
  {
   "cell_type": "code",
   "execution_count": 9,
   "metadata": {},
   "outputs": [
    {
     "name": "stdout",
     "output_type": "stream",
     "text": [
      "A B C D E \n",
      "A B C D \n",
      "A B C \n",
      "A B \n",
      "A \n",
      "\n"
     ]
    }
   ],
   "source": [
    "for i in range(6,0,-1):\n",
    "    k='A'\n",
    "    for j in range(1,i):\n",
    "        print(k,end=' ')\n",
    "        k=chr(ord(k)+1)\n",
    "    print()\n",
    "#Pattern 18"
   ]
  },
  {
   "cell_type": "code",
   "execution_count": 10,
   "metadata": {},
   "outputs": [
    {
     "name": "stdout",
     "output_type": "stream",
     "text": [
      "E D C B A \n",
      "E D C B \n",
      "E D C \n",
      "E D \n",
      "E \n",
      "\n"
     ]
    }
   ],
   "source": [
    "for i in range(6,0,-1):\n",
    "    k='E'\n",
    "    for j in range(1,i):\n",
    "        print(k,end=' ')\n",
    "        k=chr(ord(k)-1)\n",
    "    print()\n",
    "#Pattern 19"
   ]
  },
  {
   "cell_type": "code",
   "execution_count": 11,
   "metadata": {},
   "outputs": [
    {
     "name": "stdout",
     "output_type": "stream",
     "text": [
      "\n",
      "E \n",
      "E D \n",
      "E D C \n",
      "E D C B \n",
      "E D C B A \n"
     ]
    }
   ],
   "source": [
    "for i in range(6):\n",
    "    k=\"E\"\n",
    "    for j in range(1,i+1):\n",
    "        print(k,end=' ')\n",
    "        k=chr(ord(k)-1)\n",
    "    print()\n",
    "# PATTERN 20"
   ]
  },
  {
   "cell_type": "code",
   "execution_count": 12,
   "metadata": {},
   "outputs": [
    {
     "name": "stdout",
     "output_type": "stream",
     "text": [
      "\n",
      "A \n",
      "B C \n",
      "D E F \n",
      "G H I J \n",
      "K L M N O \n"
     ]
    }
   ],
   "source": [
    "k=\"A\"\n",
    "for i in range(6):\n",
    "    for j in range(1,i+1):\n",
    "        print(k,end=' ')\n",
    "        k=chr(ord(k)+1)\n",
    "    print()\n",
    "# PATTERN 21"
   ]
  },
  {
   "cell_type": "code",
   "execution_count": 38,
   "metadata": {},
   "outputs": [
    {
     "name": "stdout",
     "output_type": "stream",
     "text": [
      "     1 \n",
      "    1 1 \n",
      "   1 2 1 \n",
      "  1 3 3 1 \n",
      " 1 4 6 4 1 \n",
      "1 6 1 0 5 1 \n",
      "1 7 7 1 5 6 1 \n",
      "1 9 4 8 7 1 7 1 \n",
      "2 1 4 3 5 8 8 8 1 \n",
      "2 3 5 7 9 4 7 6 9 1 \n"
     ]
    }
   ],
   "source": [
    "# from math import factorial as fact\n",
    "# for i in range(5):\n",
    "#     for k in range(abs(5-i)):\n",
    "#         print(end=' ')\n",
    "#     for j in range(i+1):\n",
    "#         ncr= fact(i)//(fact(i-j)*(fact(j)))\n",
    "#         print(ncr,end=' ')\n",
    "#     print()\n",
    "# #Pattern 22\n",
    "\n",
    "for i in range():\n",
    "    for k in range(5-i):\n",
    "        print(end=\" \")\n",
    "    num=str(11**i)#1 \n",
    "    new_num=\"\"\n",
    "    for i in num:\n",
    "        new_num+=i+\" \"\n",
    "    print(new_num)\n"
   ]
  },
  {
   "cell_type": "code",
   "execution_count": 27,
   "metadata": {},
   "outputs": [
    {
     "name": "stdout",
     "output_type": "stream",
     "text": [
      "     A \n",
      "    A A \n",
      "   A B A \n",
      "  A C C A \n",
      " A D F D A \n"
     ]
    }
   ],
   "source": [
    "a=\"@\" # Unicode value before A\n",
    "for i in range(5):\n",
    "    for k in range(abs(5-i)):\n",
    "        print(end=' ')\n",
    "    for j in range(i+1):\n",
    "        ncr= fact(i)//(fact(i-j)*(fact(j)))\n",
    "        print(chr(ord(a)+ncr),end=' ')\n",
    "    print()\n",
    "#Pattern 23"
   ]
  },
  {
   "cell_type": "code",
   "execution_count": 43,
   "metadata": {},
   "outputs": [
    {
     "name": "stdout",
     "output_type": "stream",
     "text": [
      "\n",
      "1 \n",
      "1 2 \n",
      "1 2 3 \n",
      "1 2 3 4 \n",
      "1 2 3 4 5 \n",
      "4 4 4 4 \n",
      "3 3 3 \n",
      "2 2 \n",
      "1 \n"
     ]
    }
   ],
   "source": [
    "for i in range(6):\n",
    "    for j in range(1,i+1):\n",
    "        print(j,end=' ')\n",
    "    print()\n",
    "for i in range(4,0,-1):\n",
    "    for j in range(0,i):#1,2,3,4\n",
    "        print(i,end=' ')\n",
    "    print()\n",
    "#Pattern 24"
   ]
  },
  {
   "cell_type": "code",
   "execution_count": 32,
   "metadata": {},
   "outputs": [
    {
     "name": "stdout",
     "output_type": "stream",
     "text": [
      "\n",
      "A \n",
      "A B \n",
      "A B C \n",
      "A B C D \n",
      "A B C D E \n",
      "A B C D \n",
      "A B C \n",
      "A B \n",
      "A \n",
      "\n"
     ]
    }
   ],
   "source": [
    "a=\"@\"\n",
    "for i in range(6):\n",
    "    for j in range(1,i+1):\n",
    "        print(chr(ord(a)+j),end=' ')\n",
    "    print()\n",
    "for i in range(5,0,-1):\n",
    "    for j in range(1,i):\n",
    "        print(chr(ord(a)+j),end=' ')\n",
    "    print()\n",
    "#Pattern 25\n"
   ]
  },
  {
   "cell_type": "code",
   "execution_count": 34,
   "metadata": {},
   "outputs": [
    {
     "name": "stdout",
     "output_type": "stream",
     "text": [
      "\n",
      "* \n",
      "* * \n",
      "* * * \n",
      "* * * * \n",
      "* * * * * \n",
      "* * * * \n",
      "* * * \n",
      "* * \n",
      "* \n",
      "\n"
     ]
    }
   ],
   "source": [
    "for i in range(6):\n",
    "    for j in range(1,i+1):\n",
    "        print(\"*\",end=' ')\n",
    "    print()\n",
    "for i in range(5,0,-1):\n",
    "    for j in range(1,i):\n",
    "        print(\"*\",end=' ')\n",
    "    print()\n",
    "#Pattern 26"
   ]
  },
  {
   "cell_type": "code",
   "execution_count": 46,
   "metadata": {},
   "outputs": [
    {
     "name": "stdout",
     "output_type": "stream",
     "text": [
      "        * \n",
      "      * * \n",
      "    * * * \n",
      "  * * * * \n",
      "* * * * * \n",
      "  * * * * \n",
      "    * * * \n",
      "      * * \n",
      "        * \n"
     ]
    }
   ],
   "source": [
    "for i in range(5):\n",
    "    for k in range(abs(4-i)):\n",
    "        print(\" \",end=' ')\n",
    "    for j in range(i+1):\n",
    "        print(\"*\",end=' ')\n",
    "    print()\n",
    "for i in range(4,0,-1):\n",
    "    for k in range(5,i,-1):\n",
    "        print(\" \",end=\" \")\n",
    "    for j in range(i,0,-1):\n",
    "        print(\"*\",end=\" \")    \n",
    "    print()\n",
    "#Pattern 27"
   ]
  },
  {
   "cell_type": "code",
   "execution_count": 79,
   "metadata": {},
   "outputs": [
    {
     "name": "stdout",
     "output_type": "stream",
     "text": [
      "1 2 3 4 5 \n",
      "1 2 3 4 \n",
      "1 2 3 \n",
      "1 2 \n",
      "1 \n",
      "1 2 \n",
      "1 2 3 \n",
      "1 2 3 4 \n",
      "1 2 3 4 5 \n"
     ]
    }
   ],
   "source": [
    "for i in range(6,0,-1):\n",
    "    for j in range(1,i):\n",
    "        print(j,end=' ')\n",
    "    if(i!=1):\n",
    "        print()\n",
    "for i in range(2,6):\n",
    "    for j in range(1,i+1):\n",
    "        print(j,end=' ')\n",
    "    print()\n",
    "#Pattern 28"
   ]
  },
  {
   "cell_type": "code",
   "execution_count": 35,
   "metadata": {},
   "outputs": [
    {
     "name": "stdout",
     "output_type": "stream",
     "text": [
      "5 4 3 2 1 \n",
      "4 3 2 1 \n",
      "3 2 1 \n",
      "2 1 \n",
      "1 \n",
      "2 1 \n",
      "3 2 1 \n",
      "4 3 2 1 \n",
      "5 4 3 2 1 \n"
     ]
    }
   ],
   "source": [
    "for i in range(5,0,-1):\n",
    "    for j in range(i,0,-1):\n",
    "        print(j,end=' ')\n",
    "\n",
    "    print()\n",
    "for i in range(2,6):\n",
    "    for j in range(i,0,-1):\n",
    "        print(j,end=' ')\n",
    "    print()\n",
    "#Pattern 29"
   ]
  },
  {
   "cell_type": "code",
   "execution_count": 81,
   "metadata": {},
   "outputs": [
    {
     "name": "stdout",
     "output_type": "stream",
     "text": [
      "A B C D E \n",
      "A B C D \n",
      "A B C \n",
      "A B \n",
      "A \n",
      "A B \n",
      "A B C \n",
      "A B C D \n",
      "A B C D E \n"
     ]
    }
   ],
   "source": [
    "k='@'\n",
    "for i in range(6,0,-1):\n",
    "    for j in range(1,i):\n",
    "        print(chr(ord(k)+j),end=' ')\n",
    "    if(i!=1):\n",
    "        print()\n",
    "for i in range(2,6):\n",
    "    for j in range(1,i+1):\n",
    "        print(chr(ord(k)+j),end=' ')\n",
    "    print()\n",
    "#Pattern 30"
   ]
  },
  {
   "cell_type": "code",
   "execution_count": 36,
   "metadata": {},
   "outputs": [
    {
     "name": "stdout",
     "output_type": "stream",
     "text": [
      "E D C B A \n",
      "D C B A \n",
      "C B A \n",
      "B A \n",
      "A \n",
      "B A \n",
      "C B A \n",
      "D C B A \n",
      "E D C B A \n"
     ]
    }
   ],
   "source": [
    "k=\"@\"\n",
    "for i in range(5,0,-1):\n",
    "    for j in range(i,0,-1):\n",
    "        print(chr(ord(k)+j),end=' ')\n",
    "    print()\n",
    "for i in range(2,6):\n",
    "    for j in range(i,0,-1):\n",
    "        print(chr(ord(k)+j),end=' ')\n",
    "    print()\n",
    "#Pattern 31"
   ]
  },
  {
   "cell_type": "code",
   "execution_count": 82,
   "metadata": {},
   "outputs": [
    {
     "name": "stdout",
     "output_type": "stream",
     "text": [
      "* * * * * \n",
      "* * * * \n",
      "* * * \n",
      "* * \n",
      "* \n",
      "* * \n",
      "* * * \n",
      "* * * * \n",
      "* * * * * \n"
     ]
    }
   ],
   "source": [
    "for i in range(6,0,-1):\n",
    "    for j in range(1,i):\n",
    "        print(\"*\",end=' ')\n",
    "    if(i!=1):\n",
    "        print()\n",
    "for i in range(2,6):\n",
    "    for j in range(1,i+1):\n",
    "        print(\"*\",end=' ')\n",
    "    print()\n",
    "#Pattern 32"
   ]
  },
  {
   "cell_type": "code",
   "execution_count": 38,
   "metadata": {},
   "outputs": [
    {
     "name": "stdout",
     "output_type": "stream",
     "text": [
      "      1 \n",
      "    1 2 1 \n",
      "  1 2 3 2 1 \n",
      "1 2 3 4 3 2 1 \n"
     ]
    }
   ],
   "source": [
    "for i in range(1,5):\n",
    "    for k in range(abs(4-i)):\n",
    "        print(end='  ')\n",
    "    for j in range(1,i+1):\n",
    "        print(j,end=' ')\n",
    "    for j in range(i-1,0,-1):\n",
    "        print(j, end=' ')\n",
    "    print()\n",
    "#Pattern 33"
   ]
  },
  {
   "cell_type": "code",
   "execution_count": 39,
   "metadata": {},
   "outputs": [
    {
     "name": "stdout",
     "output_type": "stream",
     "text": [
      "      A \n",
      "    A B A \n",
      "  A B C B A \n",
      "A B C D C B A \n"
     ]
    }
   ],
   "source": [
    "n=\"@\"\n",
    "for i in range(1,5):\n",
    "    for k in range(abs(4-i)):\n",
    "        print(end='  ')\n",
    "    for j in range(1,i+1):\n",
    "        print(chr(ord(n)+j),end=' ')\n",
    "    for j in range(i-1,0,-1):\n",
    "        print(chr(ord(n)+j), end=' ')\n",
    "    print()\n",
    "#Pattern 34"
   ]
  },
  {
   "cell_type": "code",
   "execution_count": 21,
   "metadata": {},
   "outputs": [
    {
     "name": "stdout",
     "output_type": "stream",
     "text": [
      "1 0 0 0 0 \n",
      "0 2 0 0 0 \n",
      "0 0 3 0 0 \n",
      "0 0 0 4 0 \n",
      "0 0 0 0 5 \n"
     ]
    }
   ],
   "source": [
    "n=1\n",
    "for i in range(1,6):\n",
    "    for j in range(1,6):\n",
    "        if n==j:\n",
    "            print(i,end=\" \")\n",
    "        else: \n",
    "            print(\"0\",end=\" \")\n",
    "    n+=1\n",
    "    print()\n",
    "#pattern 35"
   ]
  },
  {
   "cell_type": "code",
   "execution_count": 48,
   "metadata": {},
   "outputs": [
    {
     "name": "stdout",
     "output_type": "stream",
     "text": [
      "1 1 1 1 1 \n",
      "2 2 2 2 2 \n",
      "3 3 3 3 3 \n",
      "4 4 4 4 4 \n",
      "5 5 5 5 5 \n"
     ]
    }
   ],
   "source": [
    "for i in range(1,6):\n",
    "    for j in range(1,6):\n",
    "        print(i,end=\" \")\n",
    "    print()"
   ]
  },
  {
   "cell_type": "code",
   "execution_count": 33,
   "metadata": {},
   "outputs": [
    {
     "name": "stdout",
     "output_type": "stream",
     "text": [
      "A A A A A \n",
      "A A A B B \n",
      "A A C C C \n",
      "A D D D D \n",
      "E E E E E "
     ]
    }
   ],
   "source": [
    "n=1\n",
    "z=\"@\"\n",
    "for i in range(4,0,-1):\n",
    "    for j in range(1,i+1):\n",
    "        print(\"A\",end=\" \")\n",
    "    for k in range(0,n):\n",
    "        print(chr(ord(z)+n),end=\" \")\n",
    "    n+=1\n",
    "    print()\n",
    "for i in range(5):\n",
    "    print(\"E\",end=\" \")\n",
    "#Pattern 37"
   ]
  },
  {
   "cell_type": "code",
   "execution_count": 2,
   "metadata": {},
   "outputs": [
    {
     "name": "stdout",
     "output_type": "stream",
     "text": [
      "      \n",
      "     1 \n",
      "    1 2 \n",
      "   1 2 3 \n",
      "  1 2 3 4 \n",
      " 1 2 3 4 5 \n",
      "  1 2 3 4 \n",
      "   1 2 3 \n",
      "    1 2 \n",
      "     1 \n"
     ]
    }
   ],
   "source": [
    "for i in range(6):\n",
    "    if i <5:\n",
    "        for k in range(abs(6-i)):\n",
    "            print(end=' ')\n",
    "        for j in range(1, i+1):\n",
    "            print(j, end=' ')\n",
    "        print()\n",
    "for i in range(5, 0, -1):\n",
    "    for k in range(abs(6-i)):\n",
    "        print(end=' ')\n",
    "    for j in range(1, i+1):\n",
    "        print(j, end=' ')\n",
    "    print()\n",
    "#Pattern 38"
   ]
  },
  {
   "cell_type": "code",
   "execution_count": 3,
   "metadata": {},
   "outputs": [
    {
     "name": "stdout",
     "output_type": "stream",
     "text": [
      "      \n",
      "     A \n",
      "    A B \n",
      "   A B C \n",
      "  A B C D \n",
      " A B C D E \n",
      "  A B C D \n",
      "   A B C \n",
      "    A B \n",
      "     A \n"
     ]
    }
   ],
   "source": [
    "c=\"@\"\n",
    "for i in range(6):\n",
    "    if i <5:\n",
    "        for k in range(abs(6-i)):\n",
    "            print(end=' ')\n",
    "        for j in range(1, i+1):\n",
    "            print(chr(ord(c)+j), end=' ')\n",
    "        print()\n",
    "for i in range(5, 0, -1):\n",
    "    for k in range(abs(6-i)):\n",
    "        print(end=' ')\n",
    "    for j in range(1, i+1):\n",
    "        print(chr(ord(c)+j), end=' ')\n",
    "    print()\n",
    "#Pattern 39"
   ]
  },
  {
   "cell_type": "code",
   "execution_count": 4,
   "metadata": {},
   "outputs": [
    {
     "name": "stdout",
     "output_type": "stream",
     "text": [
      "      \n",
      "     * \n",
      "    * * \n",
      "   * * * \n",
      "  * * * * \n",
      " * * * * * \n",
      "  * * * * \n",
      "   * * * \n",
      "    * * \n",
      "     * \n"
     ]
    }
   ],
   "source": [
    "for i in range(6):\n",
    "    if i < 5:\n",
    "        for k in range(abs(6-i)):\n",
    "            print(end=' ')\n",
    "        for j in range(1, i+1):\n",
    "            print(\"*\", end=' ')\n",
    "        print()\n",
    "for i in range(5, 0, -1):\n",
    "    for k in range(abs(6-i)):\n",
    "        print(end=' ')\n",
    "    for j in range(1, i+1):\n",
    "        print(\"*\", end=' ')\n",
    "    print()\n",
    "# Pattern 40\n"
   ]
  }
 ],
 "metadata": {
  "kernelspec": {
   "display_name": "Python 3 (ipykernel)",
   "language": "python",
   "name": "python3"
  },
  "language_info": {
   "codemirror_mode": {
    "name": "ipython",
    "version": 3
   },
   "file_extension": ".py",
   "mimetype": "text/x-python",
   "name": "python",
   "nbconvert_exporter": "python",
   "pygments_lexer": "ipython3",
   "version": "3.10.10"
  },
  "vscode": {
   "interpreter": {
    "hash": "e7370f93d1d0cde622a1f8e1c04877d8463912d04d973331ad4851f04de6915a"
   }
  }
 },
 "nbformat": 4,
 "nbformat_minor": 2
}
