{
 "cells": [
  {
   "cell_type": "code",
   "execution_count": 1,
   "metadata": {},
   "outputs": [
    {
     "name": "stdout",
     "output_type": "stream",
     "text": [
      "Enter The correct value!\n"
     ]
    }
   ],
   "source": [
    "def leap_year(year):\n",
    "    if ((year % 4 == 0) and (year % 100 != 0)) or (year % 400 == 0):\n",
    "        print(year, \"is a leap year\")\n",
    "    else:\n",
    "        print(year, \"is not a leap year\")\n",
    "\n",
    "try:\n",
    "    k=int(input(\"Enter a Number\"))\n",
    "    if k>0:\n",
    "        leap_year(k)\n",
    "    else:\n",
    "        raise Exception(\"Enter Right Value\")\n",
    "except (ValueError):\n",
    "    print(\"Enter The correct value!\")\n"
   ]
  },
  {
   "cell_type": "code",
   "execution_count": 1,
   "metadata": {},
   "outputs": [
    {
     "name": "stdout",
     "output_type": "stream",
     "text": [
      "The Product is: -336\n"
     ]
    }
   ],
   "source": [
    "# Develop a python function to multiply all the numbers in a list. Sample List : (8, 2, 3, -1, 7) Expected Output: -336\n",
    "\n",
    "lis = [8, 2, 3, -1, 7]\n",
    "prod=1\n",
    "try:\n",
    "    num=int(input(\"Enter the number to multiply\"))\n",
    "except (ValueError):\n",
    "    print(\"Enter A number!\")\n",
    "else:\n",
    "    if num in lis: # To check if number is present in string\n",
    "        for i in lis:\n",
    "            prod*=i\n",
    "        print(f\"The Product is: {prod}\")\n",
    "    else:\n",
    "        print(\"Element not present in list, wont display the product\")\n",
    "\n"
   ]
  },
  {
   "cell_type": "code",
   "execution_count": 1,
   "metadata": {},
   "outputs": [
    {
     "name": "stdout",
     "output_type": "stream",
     "text": [
      "Enter a Integer please! \n"
     ]
    }
   ],
   "source": [
    "from math import factorial as fact\n",
    "def pascals_triangle(n):\n",
    "    try:\n",
    "        n=int(n)\n",
    "        for i in range(n):\n",
    "            for k in range(abs(n-i)):\n",
    "                print(end=' ')\n",
    "            for j in range(i+1):\n",
    "                ncr= fact(i)//(fact(i-j)*(fact(j)))\n",
    "                print(ncr,end=' ')\n",
    "            print()\n",
    "    except ValueError:\n",
    "        print(\"Enter a Integer please! \")\n",
    "pascals_triangle(\"test\")\n"
   ]
  }
 ],
 "metadata": {
  "kernelspec": {
   "display_name": "Python 3",
   "language": "python",
   "name": "python3"
  },
  "language_info": {
   "codemirror_mode": {
    "name": "ipython",
    "version": 3
   },
   "file_extension": ".py",
   "mimetype": "text/x-python",
   "name": "python",
   "nbconvert_exporter": "python",
   "pygments_lexer": "ipython3",
   "version": "3.10.9"
  },
  "orig_nbformat": 4,
  "vscode": {
   "interpreter": {
    "hash": "e7370f93d1d0cde622a1f8e1c04877d8463912d04d973331ad4851f04de6915a"
   }
  }
 },
 "nbformat": 4,
 "nbformat_minor": 2
}
