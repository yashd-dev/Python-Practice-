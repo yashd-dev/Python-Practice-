{
  "cells": [
    {
      "cell_type": "code",
      "execution_count": null,
      "metadata": {
        "colab": {
          "base_uri": "https://localhost:8080/"
        },
        "id": "zCwzxynxDJS3",
        "outputId": "132d312d-6b6b-47ef-ca3e-cfc98f8352fe"
      },
      "outputs": [
        {
          "name": "stdout",
          "output_type": "stream",
          "text": [
            "100\n"
          ]
        }
      ],
      "source": [
        "# Variables in Python: Create a variable savings with the value 100.Check out this variable by typing print(savings) in the script\n",
        "\n",
        "savings = 100\n",
        "print(savings)\n"
      ]
    },
    {
      "cell_type": "code",
      "execution_count": 1,
      "metadata": {
        "colab": {
          "base_uri": "https://localhost:8080/"
        },
        "id": "hHvwglkBD1iQ",
        "outputId": "e369c9b3-d4e8-4fa5-b71b-10943a7c33d3"
      },
      "outputs": [
        {
          "name": "stdout",
          "output_type": "stream",
          "text": [
            "2\n",
            "-1\n",
            "2.0\n",
            "2\n",
            "20\n",
            "32\n",
            "1\n"
          ]
        }
      ],
      "source": [
        "# Python as a calculator\n",
        "print(1+1)\n",
        "print(1-2)\n",
        "print(10/5)\n",
        "print(10//5)\n",
        "print(2*10)\n",
        "print(2**5)\n",
        "print(10 % 3)\n"
      ]
    },
    {
      "cell_type": "code",
      "execution_count": 2,
      "metadata": {
        "colab": {
          "base_uri": "https://localhost:8080/"
        },
        "id": "oNWt3jlHFBVC",
        "outputId": "512da801-7f0c-428a-8eea-1e6ee62ef138"
      },
      "outputs": [
        {
          "name": "stdout",
          "output_type": "stream",
          "text": [
            "After 7 years, 100 at intrest 1.1 will become 194\n"
          ]
        }
      ],
      "source": [
        "# Suppose you have Rs.100, which you can invest with a 10% return each year. After one year, it's 100×1.1=110 rupees, and after two years it's 100×1.1×1.1=121.code to calculate how much money you end up with after 7 years, and print the result.code to calculate how much money you end up with after 7 years, and print the result.\n",
        "principal = 100\n",
        "interest = 1.1\n",
        "final = int(100*(1.1**7))\n",
        "print(f\"After 7 years, {principal} at intrest {interest} will become {final}\")"
      ]
    },
    {
      "cell_type": "code",
      "execution_count": null,
      "metadata": {
        "colab": {
          "base_uri": "https://localhost:8080/"
        },
        "id": "3nOkxhRVGkr5",
        "outputId": "2add19b3-8ed5-4e25-b95a-d055fc51b31f"
      },
      "outputs": [
        {
          "name": "stdout",
          "output_type": "stream",
          "text": [
            "The result of 8958937768937 divided by 2851718461558 is 3.141592653589793\n"
          ]
        }
      ],
      "source": [
        "# Write a Python script that prints the result for 8958937768937 divided by 2851718461558\n",
        "a = 8958937768937\n",
        "b = 2851718461558\n",
        "c = a/b\n",
        "print(f\"The result of {a} divided by {b} is {c}\")\n"
      ]
    },
    {
      "cell_type": "code",
      "execution_count": 3,
      "metadata": {
        "colab": {
          "base_uri": "https://localhost:8080/"
        },
        "id": "VQTeVhaYHy8h",
        "outputId": "d5644874-8c98-45cf-c45f-155c6e604cd0"
      },
      "outputs": [
        {
          "name": "stdout",
          "output_type": "stream",
          "text": [
            "Their sum is 25\n",
            "Their subtraction is -1\n",
            "Their Multiplication is 156\n"
          ]
        }
      ],
      "source": [
        "'''\n",
        "Take two variables a and b and print three lines where:\n",
        "○ The first line contains the sum of the two numbers.\n",
        "○ The second line contains the difference of the two numbers (first - second).\n",
        "○ The third line contains the product of the two numbers.\n",
        "'''\n",
        "a = int(input(\"Enter 1st number \")) #12\n",
        "b = int(input(\"Enter 2nd number \")) #13\n",
        "print(f\"Their sum is {a+b}\")\n",
        "print(f\"Their subtraction is {a-b}\")\n",
        "print(f\"Their Multiplication is {a*b}\")\n"
      ]
    },
    {
      "cell_type": "code",
      "execution_count": null,
      "metadata": {
        "colab": {
          "base_uri": "https://localhost:8080/"
        },
        "id": "lr_Cha0gIlsC",
        "outputId": "4e740080-eca0-4131-a8ee-9a84e515074a"
      },
      "outputs": [
        {
          "name": "stdout",
          "output_type": "stream",
          "text": [
            "Enter 1st number 12\n",
            "Enter 2nd number 199\n",
            "Their integer division is 0\n",
            "Their float division is 0.06030150753768844\n"
          ]
        }
      ],
      "source": [
        "'''\n",
        "Take input from user in two variables and print the following:\n",
        "○ Add logic to print two lines. The first line should contain the result of integer\n",
        "division\n",
        "○ The second line should contain the result of float division \n",
        "○ No rounding or formatting is necessary.\n",
        "'''\n",
        "a = int(input(\"Enter 1st number \"))\n",
        "b = int(input(\"Enter 2nd number \"))\n",
        "print(f\"Their integer division is {a//b}\")\n",
        "print(f\"Their float division is {a/b}\")\n"
      ]
    },
    {
      "cell_type": "code",
      "execution_count": 4,
      "metadata": {
        "colab": {
          "base_uri": "https://localhost:8080/"
        },
        "id": "IWxPHj1aJdtL",
        "outputId": "19e98b42-b1e6-4c08-f683-5f8dc719e106"
      },
      "outputs": [
        {
          "name": "stdout",
          "output_type": "stream",
          "text": [
            "Age of Yash Deshpande is 17\n"
          ]
        }
      ],
      "source": [
        "# Take input from the user in variables first_name ,last_name and age. Print the full name of the user with age. Output should look like, e.g “Age of John Willam is 16”\n",
        "first_name = input(\"Enter First Name \") #Yash\n",
        "last_name = input(\"Enter Last Name \") #Deshpande\n",
        "age = int(input(\"Enter age \")) #17\n",
        "print(f\"Age of {first_name} {last_name} is {age}\")\n"
      ]
    },
    {
      "cell_type": "code",
      "execution_count": 10,
      "metadata": {
        "id": "tCHeGXvFzWY8"
      },
      "outputs": [
        {
          "name": "stdout",
          "output_type": "stream",
          "text": [
            "The Compound intrest is: 133.0992000000001\n"
          ]
        }
      ],
      "source": [
        "# Calculate compound interest. Assume your own variables.\n",
        "p = int(input(\"Principal: \"))  # 1200\n",
        "r = float(input(\"Rate: \"))  # 5.4\n",
        "t = int(input(\"Time: \"))  # 2\n",
        "amt = p*pow((1+r/100), t)\n",
        "print(f\"The Compound intrest is: {amt-p}\")\n"
      ]
    },
    {
      "cell_type": "code",
      "execution_count": 19,
      "metadata": {},
      "outputs": [
        {
          "name": "stdout",
          "output_type": "stream",
          "text": [
            "Enter \n",
            "1 For Arithmetic Operators \n",
            "2 For Assignment Operators \n",
            "3 For Comparison Operators \n",
            "4 For Logical Operators \n",
            "5 For Bitwise Operators \n",
            "6 For Special Operators\n",
            "\n",
            "\n",
            "\n",
            "Special operators include 'in' and 'not in' \n",
            "To check for a element in list,string,touple or dictionary\n",
            "True\n",
            "False\n"
          ]
        }
      ],
      "source": [
        "'''\n",
        "Write a program in python to demonstrate the use of following operators in python:\n",
        "○ Arithmetic Operators\n",
        "○ Assignment Operators\n",
        "○ Comparison Operators\n",
        "○ Logical Operators\n",
        "○ Bitwise Operators\n",
        "○ Special Operators\n",
        "'''\n",
        "print('Enter \\n1 For Arithmetic Operators \\n2 For Assignment Operators \\n3 For Comparison Operators \\n4 For Logical Operators \\n5 For Bitwise Operators \\n6 For Special Operators\\n\\n\\n')\n",
        "choice = int(input())\n",
        "a = 1\n",
        "b = 7\n",
        "c = 1\n",
        "if (choice == 1):\n",
        "    print(f\"Their Sum: {a+b}\")\n",
        "    print(f\"Their Subtraction: {a-b}\")\n",
        "    print(f\"Their Multiplication: {a*b}\")\n",
        "    print(f\"Their Modulus: {a%b}\")\n",
        "    print(f\"Their Division(Float): {a/b}\")\n",
        "    print(f\"Their Division(Integer): {a//b}\")\n",
        "elif (choice == 2):\n",
        "    print(\"The operator = is used to asign variables a value\")\n",
        "    print(\"a=c ie c becomes {c}\")\n",
        "    b += a\n",
        "    print(\"Arithmatic Operators on = ie b+=a value of a is being added to b , b becomes {b}\")\n",
        "    b &= a\n",
        "    print(\"Similarly, Bitwise can be used, example b&=a which gives {b}\")\n",
        "elif (choice == 3):\n",
        "    print(\"Comapres 2 values and outputs boolean\")\n",
        "    print(f\"{a}>{b} is {a>b} \")\n",
        "    print(f\"{a}<{b} is {a<b} \")\n",
        "    print(f\"{a}>={b} is {a>=b} \")\n",
        "    print(f\"{a}<={b} is {a<=b} \")\n",
        "    print(f\"{a}=={b} is {a==b} \")\n",
        "elif (choice == 4):\n",
        "    print(f\"{a}=={b} and {b}=={a} is {a==b and b==a} \")\n",
        "    print(f\"{a}=={b} or {b}!={a} is {a==b or b!=a} \")\n",
        "    print(f\"{a}=={b} not {b}=={a} is {not(a==b and b==a)} \")\n",
        "elif (choice == 5):\n",
        "    # Printing the binaries using bin() method and string slicing to remove 0b the Python prefix in the output binary which is used for the representation of binary numbers\n",
        "    print(f\"a={a} or in Binary {bin(a)[2:]} \\tb={b} or in Binary {bin(b)[2:]}\")\n",
        "    print(f\"Bitwise and: {a} & {b} = {a&b}\")\n",
        "    '''\n",
        "      111\n",
        "    & 001\n",
        "    = 001\n",
        "    '''\n",
        "    print(f\"Bitwise or: {a} | {b} = {a|b}\")\n",
        "    '''\n",
        "      111\n",
        "    | 001\n",
        "    = 111 which is converted to decimal\n",
        "    '''\n",
        "    print(f\"Bitwise xor:{a} ^ {b} = {a^b}\") \n",
        "    '''\n",
        "      111\n",
        "    ^ 001\n",
        "    = 110 which is converted to decimal\n",
        "    '''\n",
        "    print(f\"Bitwise not: ~{a} = {~a}\") #Inverts the given binary\n",
        "elif(choice == 6):\n",
        "    print(\"Special operators include 'in' and 'not in' \")\n",
        "    j=[1,2,3]\n",
        "    print(\"To check for a element in list,string,touple or dictionary\")\n",
        "    print(1 in j)\n",
        "    print(2 not in j)"
      ]
    },
    {
      "cell_type": "markdown",
      "metadata": {},
      "source": []
    },
    {
      "cell_type": "code",
      "execution_count": 20,
      "metadata": {},
      "outputs": [
        {
          "name": "stdout",
          "output_type": "stream",
          "text": [
            "Enter a Number:\n",
            "The Sum of the inputs is 17 and Average is 3.4\n",
            "True\n"
          ]
        }
      ],
      "source": [
        "'''  \n",
        "Write a program to accept 5 numbers from the user using individual statements. Print\n",
        "the sum, average of the numbers. Check if the sum is less than 100 and print the true\n",
        "false value\n",
        "'''\n",
        "a,b,c,d,e= map(int, input().split())\n",
        "sum=0\n",
        "print(\"Enter a Number:\")\n",
        "sum=a+b+c+d+e\n",
        "avg=sum/5\n",
        "print(f\"The Sum of the inputs is {sum} and Average is {avg}\")\n",
        "if n:= sum<=100:\n",
        "    print(n)\n",
        "else:\n",
        "    print(n)\n"
      ]
    },
    {
      "cell_type": "code",
      "execution_count": 16,
      "metadata": {},
      "outputs": [
        {
          "name": "stdout",
          "output_type": "stream",
          "text": [
            "For 1 and 3 the Remainder is 1, Floor Division Result is 0.3333333333333333 and 1 raised to 3 is 1\n"
          ]
        }
      ],
      "source": [
        "'''\n",
        "Take input from the user in two variables. Perform below operations\n",
        "○ Find remainder\n",
        "○ Perform floor division\n",
        "○ Calculate a raise to b\n",
        "'''\n",
        "a,b=map(int, input().split())\n",
        "remainder=a%b\n",
        "flot=a/b\n",
        "raised=a**b\n",
        "print(f\"For {a} and {b} the Remainder is {remainder}, Floor Division Result is {flot} and {a} raised to {b} is {raised}\")"
      ]
    },
    {
      "cell_type": "code",
      "execution_count": 13,
      "metadata": {
        "colab": {
          "base_uri": "https://localhost:8080/"
        },
        "id": "UVo2_SvYKFe6",
        "outputId": "25d8d2cf-465f-43aa-fa83-a766da8c6683"
      },
      "outputs": [
        {
          "name": "stdout",
          "output_type": "stream",
          "text": [
            "The Area is 452.16\n"
          ]
        }
      ],
      "source": [
        "# Accept the radius of a circle and find its area and circumference.\n",
        "rad = int(input(\"Enter the radius of a circle \"))\n",
        "area = 3.14*(rad**2)\n",
        "# circum = 2*3.14*rad\n",
        "print(f\"The Area is {area}\")\n"
      ]
    },
    {
      "cell_type": "code",
      "execution_count": 18,
      "metadata": {},
      "outputs": [
        {
          "name": "stdout",
          "output_type": "stream",
          "text": [
            "On the value 6, which is binary is 110.\n",
            "Bitwise shift left is 12 which is binary is 1100\n",
            "Bitwise Shift right is 3 which is binary is 11\n"
          ]
        }
      ],
      "source": [
        "'''\n",
        "Write a program to store integer value in a variable 'a'. Perform below operations on\n",
        "the variable.\n",
        "○ Bitwise shift left\n",
        "○ Bitwise shift right\n",
        "'''\n",
        "a = int(input(\"Enter a Number\"))\n",
        "shift = int(input(\"Enter the value to shifting: \"))\n",
        "print(f\"On the value {a}, which is binary is {bin(a)[2:]}.\\nBitwise shift left is {a<<1} which is binary is {bin(a<<1)[2:]}\\nBitwise Shift right is {a>>1} which is binary is {bin(a>>1)[2:]}\")\n"
      ]
    }
  ],
  "metadata": {
    "colab": {
      "provenance": []
    },
    "kernelspec": {
      "display_name": "Python 3.10.8 64-bit",
      "language": "python",
      "name": "python3"
    },
    "language_info": {
      "codemirror_mode": {
        "name": "ipython",
        "version": 3
      },
      "file_extension": ".py",
      "mimetype": "text/x-python",
      "name": "python",
      "nbconvert_exporter": "python",
      "pygments_lexer": "ipython3",
      "version": "3.10.9 (main, Dec 19 2022, 17:35:49) [GCC 12.2.0]"
    },
    "vscode": {
      "interpreter": {
        "hash": "e7370f93d1d0cde622a1f8e1c04877d8463912d04d973331ad4851f04de6915a"
      }
    }
  },
  "nbformat": 4,
  "nbformat_minor": 0
}
