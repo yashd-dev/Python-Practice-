{
 "cells": [
  {
   "cell_type": "code",
   "execution_count": 44,
   "metadata": {},
   "outputs": [
    {
     "name": "stdout",
     "output_type": "stream",
     "text": [
      "2000 is a leap year\n",
      "1800 is not a leap year\n"
     ]
    }
   ],
   "source": [
    "'''\n",
    "Given a year, determine whether it is a leap year. If it is a leap year, return the\n",
    "Boolean True, otherwise return False.\n",
    "Input 1990\n",
    "Output False (Hackerrank)\n",
    "'''\n",
    "def leap_year(year):\n",
    "    if ((year % 4 == 0) and (year % 100 != 0)) or (year % 400 == 0):\n",
    "        print(year, \"is a leap year\")\n",
    "    else:\n",
    "        print(year, \"is not a leap year\")\n",
    "\n",
    "\n",
    "leap_year(2000)\n",
    "leap_year(1800)"
   ]
  },
  {
   "cell_type": "code",
   "execution_count": 23,
   "metadata": {},
   "outputs": [
    {
     "name": "stdout",
     "output_type": "stream",
     "text": [
      "The Product of list is:  6\n"
     ]
    }
   ],
   "source": [
    "\"\"\"\n",
    "Develop a python function to multiply all the numbers in a list. Sample List : (8, 2, 3,\n",
    "-1, 7) Expected Output: -336\n",
    "\"\"\"\n",
    "def mult(lis):\n",
    "    mul=1\n",
    "    for i in lis:\n",
    "        mul*=i\n",
    "    return mul\n",
    "\n",
    "if __name__== \"__main__\":\n",
    "    lis=[]\n",
    "    for i in range(int(input(\"Enter the number of elements: \"))): # Range-3\n",
    "        lis.append(int(input(f\"Enter element {i+1}: \"))) # Elements: [1,2,3]\n",
    "    print(\"The Product of list is: \",mult(lis))\n",
    "\n"
   ]
  },
  {
   "cell_type": "code",
   "execution_count": 42,
   "metadata": {},
   "outputs": [
    {
     "name": "stdout",
     "output_type": "stream",
     "text": [
      "          1\n",
      "         1 1\n",
      "        1 2 1\n",
      "       1 3 3 1\n",
      "      1 4 6 4 1\n",
      "     1 6 1 0 5 1\n",
      "    1 7 7 1 5 6 1\n",
      "   1 9 4 8 7 1 7 1\n",
      "  2 1 4 3 5 8 8 8 1\n",
      " 2 3 5 7 9 4 7 6 9 1\n"
     ]
    }
   ],
   "source": [
    "# Develop a Python function that prints out the first n rows of Pascal's triangle.\n",
    "\n",
    "def pascal(row):\n",
    "    for i in range(row):\n",
    "        for j in range(row-i):\n",
    "            print(\" \", end=\"\")\n",
    "\n",
    "        print(\" \".join(str(11**i)))\n",
    "        # print(str(11**i).replace(\"\", \" \")[1: -1])\n",
    "\n",
    "\n",
    "pascal(10)\n"
   ]
  },
  {
   "cell_type": "code",
   "execution_count": 20,
   "metadata": {},
   "outputs": [
    {
     "name": "stdout",
     "output_type": "stream",
     "text": [
      "The facto is  479001600\n",
      "It is a armstrong\n",
      "2\n",
      "126\n"
     ]
    }
   ],
   "source": [
    "'''\n",
    "Develop a module called math_details. This module should have different functions\n",
    "for\n",
    "Calculating Permutation and combinations\n",
    "Factorial of a number\n",
    "Armstrong Number\n",
    "Reverse of a number\n",
    "'''\n",
    "def factorial(num):\n",
    "    prod = 1\n",
    "    for i in range(1, num+1):\n",
    "        prod = prod*i\n",
    "    return prod\n",
    "\n",
    "\n",
    "def permutation(r, n):\n",
    "    return (factorial(n)//factorial(n-r))\n",
    "\n",
    "\n",
    "def combination(r, n):\n",
    "    return (factorial(n)//(factorial(r)*factorial(n-r)))\n",
    "\n",
    "\n",
    "def armstrong(num):\n",
    "    prod = 0\n",
    "    temp = num\n",
    "    while num != 0:\n",
    "        digit = num % 10\n",
    "        prod += digit**3\n",
    "        num //= 10\n",
    "    if temp == prod:\n",
    "        return True\n",
    "    else:\n",
    "        return False\n",
    "\n",
    "\n",
    "if __name__ == \"__main__\":\n",
    "    facto = factorial(int(input(\"Enter A NUmber to find its factorial \")))\n",
    "    print(\"The facto is \", facto)\n",
    "    if armstrong(int(input(\"Enter a Number to check for Armstrong\"))):\n",
    "        print(\"It is a armstrong\")\n",
    "    print(permutation(1,2))\n",
    "    print(combination(5,9))\n"
   ]
  },
  {
   "cell_type": "code",
   "execution_count": 1,
   "metadata": {},
   "outputs": [
    {
     "name": "stdout",
     "output_type": "stream",
     "text": [
      "15\n"
     ]
    }
   ],
   "source": [
    "# What is the output of the following function call\n",
    "def outer_fun(a, b):\n",
    "    def inner_fun(c, d):\n",
    "        return c + d # 3-This is returning the sum of 5+10 ie 15, thus subsequently returning 15 from outer function giving the output as 15\n",
    "    return inner_fun(a, b) #2- This is calling the inner fuction\n",
    "    return a # This will not be retured\n",
    "result = outer_fun(5, 10) # 1-The outer function is being called \n",
    "print(result)"
   ]
  },
  {
   "cell_type": "code",
   "execution_count": 12,
   "metadata": {},
   "outputs": [
    {
     "name": "stdout",
     "output_type": "stream",
     "text": [
      "Emma\n",
      "25\n",
      "{'name': 'Emma', 'age': 25}\n"
     ]
    }
   ],
   "source": [
    "'''\n",
    "def display_person(*args):\n",
    "    for i in args:\n",
    "        print(i)\n",
    "display_person(name=\"Emma\", age=\"25\") This wont work because you are passing multiple keyword arguments but the function is just accepting regualr multiple arguments. To make this work, use the ** or the unpacking operator which will take the keyword arguments as dictionaries.\n",
    "\n",
    "'''\n",
    "def display_person(**args):\n",
    "    for i in args.values():\n",
    "        print(i)\n",
    "    print(args)\n",
    "display_person(name=\"Emma\",age=25)"
   ]
  },
  {
   "cell_type": "code",
   "execution_count": 19,
   "metadata": {},
   "outputs": [
    {
     "name": "stdout",
     "output_type": "stream",
     "text": [
      "1 2 3 4\n",
      "[1, 2, 3, 4]\n"
     ]
    }
   ],
   "source": [
    "'''\n",
    "Write a code in python to demonstrate returning multiple values in python\n",
    "'''\n",
    "def multiple_values():\n",
    "    return 1,2,3,4\n",
    "x,y,z,a=multiple_values()\n",
    "print(*multiple_values())\n",
    "lis=[*multiple_values()]\n",
    "print(lis)\n"
   ]
  }
 ],
 "metadata": {
  "kernelspec": {
   "display_name": "Python 3",
   "language": "python",
   "name": "python3"
  },
  "language_info": {
   "codemirror_mode": {
    "name": "ipython",
    "version": 3
   },
   "file_extension": ".py",
   "mimetype": "text/x-python",
   "name": "python",
   "nbconvert_exporter": "python",
   "pygments_lexer": "ipython3",
   "version": "3.10.9 (main, Dec 19 2022, 17:35:49) [GCC 12.2.0]"
  },
  "orig_nbformat": 4,
  "vscode": {
   "interpreter": {
    "hash": "e7370f93d1d0cde622a1f8e1c04877d8463912d04d973331ad4851f04de6915a"
   }
  }
 },
 "nbformat": 4,
 "nbformat_minor": 2
}
