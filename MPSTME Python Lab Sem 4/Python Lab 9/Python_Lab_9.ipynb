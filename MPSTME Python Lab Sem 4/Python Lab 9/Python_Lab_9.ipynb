{
 "cells": [
  {
   "cell_type": "code",
   "execution_count": 1,
   "metadata": {},
   "outputs": [
    {
     "name": "stdout",
     "output_type": "stream",
     "text": [
      "['Hello World']\n",
      "['Hello World Goodbye World']\n",
      "['hi', 'i', 'am', 'yash', 'how', 'are', 'you hdjsd']\n"
     ]
    }
   ],
   "source": [
    "'''\n",
    "b. Perform following operations for File Handling:\n",
    "• Create Text File\n",
    "• Read Text File\n",
    "• Write Text File\n",
    "• Append Text File\n",
    "• Read data from CSV File\n",
    "'''\n",
    "import csv\n",
    "\n",
    "with open(\"hello.txt\",\"w\",encoding=\"utf-8\") as file:\n",
    "    file.write(\"Hello World\") # Creating and Writing in file\n",
    "\n",
    "with open(\"hello.txt\",\"r\",encoding=\"utf-8\") as file:\n",
    "    print(file.readlines()) # Reading the file\n",
    "\n",
    "with open(\"/home/yashd-dev/Documents/GitHub/Random-Python-Problems/MPSTME Python Lab Sem 4/hello.txt\",\"a\",encoding=\"utf-8\") as file:\n",
    "    file.write(\" Goodbye World\") # Appending The file\n",
    "\n",
    "with open(\"hello.txt\",\"r\") as file:\n",
    "    print(file.readlines()) # Reading the file\n",
    "\n",
    "with open (\"testing.csv\",\"r\") as css:\n",
    "    csvreader = csv.reader(css) # Parsing Content in csv\n",
    "    for words in csvreader: # Printing each word in that csv\n",
    "        print(words) "
   ]
  },
  {
   "cell_type": "code",
   "execution_count": 6,
   "metadata": {},
   "outputs": [
    {
     "name": "stdout",
     "output_type": "stream",
     "text": [
      "/home/yashd-dev/Documents/GitHub/Random-Python-Problems/MPSTME Python Lab Sem 4/NewDir\n"
     ]
    }
   ],
   "source": [
    "'''\n",
    "Create a directory\n",
    "Remove a directory\n",
    "Rename a file \n",
    "change directory\n",
    "see working directory\n",
    "'''\n",
    "import os\n",
    "\n",
    "os.mkdir(\"NewDir\") # New Directory\n",
    "# os.rmdir(\"NewDir\") # Deleting Directory\n",
    "os.rename(\"hello.txt\",\"goodby.txt\") # Renaming\n",
    "os.chdir(\"NewDir\") # Changing directory\n",
    "print(os.getcwd()) # Seeing Working Directory\n"
   ]
  }
 ],
 "metadata": {
  "kernelspec": {
   "display_name": "Python 3",
   "language": "python",
   "name": "python3"
  },
  "language_info": {
   "codemirror_mode": {
    "name": "ipython",
    "version": 3
   },
   "file_extension": ".py",
   "mimetype": "text/x-python",
   "name": "python",
   "nbconvert_exporter": "python",
   "pygments_lexer": "ipython3",
   "version": "3.10.9"
  },
  "orig_nbformat": 4,
  "vscode": {
   "interpreter": {
    "hash": "e7370f93d1d0cde622a1f8e1c04877d8463912d04d973331ad4851f04de6915a"
   }
  }
 },
 "nbformat": 4,
 "nbformat_minor": 2
}
