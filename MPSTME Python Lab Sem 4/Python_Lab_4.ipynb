{
 "cells": [
  {
   "cell_type": "code",
   "execution_count": 8,
   "metadata": {},
   "outputs": [
    {
     "name": "stdout",
     "output_type": "stream",
     "text": [
      "Enter the Student Roll Number: \n",
      "('C003', 'C003') \t <class 'tuple'>\n",
      "To Modify items of a tuple\n",
      "('C003', 'C005')\n"
     ]
    }
   ],
   "source": [
    "'''\n",
    "1.Create a tuple for storing student information and perform the following functions:\n",
    "a. Print an item of the tuple\n",
    "b. Check if an element exists within a tuple\n",
    "c. Check number of times an item has repeated\n",
    "d. Remove an item from a tuple\n",
    "e. Slice a tuple\n",
    "f. Get the index of an item of the tuple\n",
    "g. Print the size of a tuple\n",
    "h. Modify items of a tuple\n",
    "'''\n",
    "\n",
    "\n",
    "def a(tup):\n",
    "    print(tup[1])\n",
    "\n",
    "\n",
    "def b(tup):\n",
    "    inp = input(\"Enter The roll number to search for: \")\n",
    "    if inp in tup:\n",
    "        print(\"It is present\")\n",
    "\n",
    "\n",
    "def c(tup):\n",
    "    inp = input(\"Enter The roll number to search for: \")\n",
    "    count = tup.count(inp)\n",
    "    print(f\"{inp} occured {count} times\")\n",
    "\n",
    "\n",
    "def d(tup):\n",
    "    lis = list(tup)\n",
    "    inp = input(\"Enter The roll number to remove\")\n",
    "    lis.remove(inp)\n",
    "    tup = tuple(lis)\n",
    "    print(tup)\n",
    "\n",
    "\n",
    "def e(tup):\n",
    "    print(tup[1:len(tup)-1:-1])\n",
    "\n",
    "\n",
    "def f(tup):\n",
    "    inp = input(\"Enter The roll number to search for: \")\n",
    "    print(f\"Element {inp} is at index {tup.index(inp)}\")\n",
    "\n",
    "\n",
    "def g(tup):\n",
    "    print(f\"The size of the Tuple is {len(tup)}\")\n",
    "\n",
    "\n",
    "def h(tup):\n",
    "    lis = list(tup)\n",
    "    inp = input(\"Enter The roll number to remove\")\n",
    "    lis.remove(inp)\n",
    "    inp = input(\"Enter The roll number to add\")\n",
    "    lis.append(inp)\n",
    "    tup = tuple(lis)\n",
    "    print(tup)\n",
    "\n",
    "n = int(input(\"Enter The number of Student: \"))\n",
    "tup = []\n",
    "print(\"Enter the Student Roll Number: \")\n",
    "for i in range(n):\n",
    "    tup.append(input())\n",
    "tup = tuple(tup)\n",
    "print(tup, \"\\t\", type(tup))\n",
    "\n",
    "print(\"To Print an item of the tuple\")\n",
    "a(tup)\n",
    "print(\"To Check if an element exists within a tuple\")\n",
    "b(tup)\n",
    "print(\"To Check number of times an item has repeated\")\n",
    "c(tup)\n",
    "print(\"To Remove an item from a tuple\")\n",
    "d(tup)\n",
    "print(\"To Slice a tuple\")\n",
    "e(tup)\n",
    "print(\"To Get the index of an item of the tuple\")\n",
    "f(tup)\n",
    "print(\"To Print the size of a tuple\")\n",
    "g(tup)\n",
    "print(\"To Modify items of a tuple\")\n",
    "h(tup)"
   ]
  },
  {
   "cell_type": "code",
   "execution_count": null,
   "metadata": {},
   "outputs": [],
   "source": [
    "'''\n",
    "2.Develop a menu driven program for a food hub.\n",
    "Example:\n",
    "Please select option:\n",
    "1- Veg Menu\n",
    "2- Non-Veg Menu\n",
    "0- Exit\n",
    "Enter your choice: 1\n",
    "You have selected option 1 - Veg\n",
    "Select from the following options for Veg\n",
    "1- Veg Burger\n",
    "2- Veg Pizza\n",
    "3- Dosa\n",
    "Enter your choice: 2\n",
    "Do you wish to continue [Y/N] ? Y\n",
    "Select from the following options for Veg\n",
    "1- Veg Burger\n",
    "2- Veg Pizza\n",
    "3- Dosa\n",
    "Enter your choice: 1\n",
    "Do you wish to continue [Y/N] ? N\n",
    "Your order is : [“Veg Pizza”, “Veg Burger”]\n",
    "Perform operations accordingly.\n",
    "b. For the same above example include price. The output will look like\n",
    "{“Veg Pizza” : 120, “Veg Burger”: 110}. Also print the total price of user choice items.\n",
    "'''\n",
    "import sys\n",
    "order = {}\n",
    "\n",
    "while True:\n",
    "    print(\"Welcome to The Food Hub\")\n",
    "    print(\"\"\"\n",
    "    Please select option:\n",
    "    1- Veg Menu\n",
    "    2- Non-Veg Menu\n",
    "    0- Exit\n",
    "    \"\"\")\n",
    "    print(\"Please enter Your choice: \")\n",
    "    inp = int(input())\n",
    "    if inp == 1:\n",
    "        print(\"You have chosen The Veg Menu\")\n",
    "        print(\"\"\"\n",
    "    Our Menu For Today:\n",
    "    1-Farmhouse Pizza\n",
    "    2-Aglio Alio pasta\n",
    "    3-Aloo Tikki Burger\n",
    "        \"\"\")\n",
    "        choice = int(input(\"Enter Your choice: \"))\n",
    "        if choice == 1:\n",
    "            order[\"Farmhouse Pizza\"] = 150\n",
    "        elif choice == 2:\n",
    "            order[\"Aglio Alio pasta\"] = 130\n",
    "        elif choice == 3:\n",
    "            order[\"Aloo Tiki Burger\"] = 100\n",
    "        else:\n",
    "            print(\"Invalid Input,Restarting\")\n",
    "            pass\n",
    "    elif inp == 2:\n",
    "        print(\"You have chosen The Nonveg Menu\")\n",
    "        print(\"\"\"\n",
    "    Our Menu For Today:\n",
    "    1-Pepperoni Pizza\n",
    "    2-Chicken Garlic pasta\n",
    "    3-Chicken Burger\n",
    "        \"\"\")\n",
    "        choice = int(input(\"Enter Your choice: \"))\n",
    "        if choice == 1:\n",
    "            order[\"Pepperoni Pizza\"] = 190\n",
    "        elif choice == 2:\n",
    "            order[\"Chicken Garlic pasta\"] = 150\n",
    "        elif choice == 3:\n",
    "            order[\"Chicken Burger\"] = 130\n",
    "        else:\n",
    "            print(\"Invalid Input,Restarting\")\n",
    "            print()\n",
    "            pass\n",
    "    elif inp == 0:\n",
    "        print()\n",
    "        print(\"Order is Succesfully Complete\")\n",
    "        print()\n",
    "        bill = 0\n",
    "        for key, value in order.items():\n",
    "            print(key, value)\n",
    "            bill += value\n",
    "        print()\n",
    "        print(f\"Total Bill is {bill}\")\n",
    "        sys.exit(\"Thank You for using the Food Hub\")\n",
    "    else:\n",
    "        print(\"Invalid Input,Restarting\")\n",
    "        print()\n",
    "        pass\n",
    "\n",
    "    while inp != \"y\":\n",
    "        inp = input(\"Do you wish to continue [Y/N] ?\")\n",
    "        print()\n",
    "        if inp.upper() == \"N\":\n",
    "            print(\"Order is Succesfully Complete\")\n",
    "            print()\n",
    "            bill = 0\n",
    "            for key, value in order.items():\n",
    "                print(key, value)\n",
    "                bill += value\n",
    "            print()\n",
    "            print(f\"Total Bill is {bill}\")\n",
    "            inp = \"y\"\n",
    "            sys.exit(\"Thank You for Using The Food Hub\")\n"
   ]
  },
  {
   "cell_type": "code",
   "execution_count": 73,
   "metadata": {},
   "outputs": [
    {
     "name": "stdout",
     "output_type": "stream",
     "text": [
      "{1: 10, 2: 20, 3: 30, 4: 40, 5: 50, 6: 60}\n"
     ]
    }
   ],
   "source": [
    "'''\n",
    "3. Write a Python script to concatenate following dictionaries to create a new one\n",
    "Sample Dictionary :\n",
    "dic1={1:10, 2:20}\n",
    "dic2={3:30, 4:40}\n",
    "dic3={5:50,6:60}\n",
    "Expected Result : {1: 10, 2: 20, 3: 30, 4: 40, 5: 50, 6: 60}\n",
    "'''\n",
    "dict1 = {1: 10, 2: 20}\n",
    "dict2 = {3: 30, 4: 40}\n",
    "dict3 = {5: 50, 6: 60}\n",
    "\n",
    "merge = {}\n",
    "merge.update(dict1)\n",
    "merge.update(dict2)\n",
    "merge.update(dict3)\n",
    "\n",
    "print(merge)\n",
    "\n"
   ]
  },
  {
   "cell_type": "code",
   "execution_count": 4,
   "metadata": {},
   "outputs": [
    {
     "name": "stdout",
     "output_type": "stream",
     "text": [
      "{1: 1, 2: 4, 3: 9, 4: 16, 5: 25, 6: 36, 7: 49, 8: 64, 9: 81, 10: 100, 11: 121, 12: 144, 13: 169, 14: 196, 15: 225}\n"
     ]
    }
   ],
   "source": [
    "'''\n",
    "4.Write a Python script to print a dictionary where the keys are numbers between 1 and 15\n",
    "(both included) and the values are square of keys.\n",
    "Sample Dictionary\n",
    "{1: 1, 2: 4, 3: 9, 4: 16, 5: 25, 6: 36, 7: 49, 8: 64, 9: 81, 10: 100, 11: 121, 12: 144, 13: 169, 14:\n",
    "196, 15: 225}\n",
    "'''\n",
    "numbers_squares={}\n",
    "for i in range(1,16):\n",
    "    numbers_squares[i]=i**2\n",
    "print(numbers_squares)\n"
   ]
  },
  {
   "cell_type": "code",
   "execution_count": 12,
   "metadata": {},
   "outputs": [
    {
     "name": "stdout",
     "output_type": "stream",
     "text": [
      "Its unique values are:  ['S001', 'S002', 'S005', 'S007', 'S009']\n"
     ]
    }
   ],
   "source": [
    "'''\n",
    "5.Write a Python program to print all unique values in a dictionary\n",
    "Sample Data : [{\"V\":\"S001\"}, {\"V\": \"S002\"}, {\"VI\": \"S001\"}, {\"VI\": \"S005\"}, {\"VII\":\"S005\"},\n",
    "{\"V\":\"S009\"},{\"VIII\":\"S007\"}]\n",
    "Expected Output : Unique Values: {'S005', 'S002', 'S007', 'S001', 'S009'}\n",
    "'''\n",
    "unique=[]\n",
    "data=[{\"V\":\"S001\"}, {\"V\": \"S002\"}, {\"VI\": \"S001\"}, {\"VI\": \"S005\"}, {\"VII\":\"S005\"},{\"V\":\"S009\"},{\"VIII\":\"S007\"}]\n",
    "for i in data:\n",
    "    for key,value in i.items():\n",
    "        if value not in unique:\n",
    "            unique.append(value)\n",
    "unique.sort()\n",
    "print(\"Its unique values are: \",unique)"
   ]
  },
  {
   "cell_type": "code",
   "execution_count": 131,
   "metadata": {},
   "outputs": [
    {
     "name": "stdout",
     "output_type": "stream",
     "text": [
      "{'item1': 1150, 'item2': 300}\n"
     ]
    }
   ],
   "source": [
    "'''\n",
    "5.Write a Python program to combine values in python list of dictionaries.\n",
    "Sample data: [{'item': 'item1', 'amount': 400}, {'item': 'item2', 'amount': 300}, {'item': 'item1',\n",
    "'amount': 750}]\n",
    "Expected Output: Counter({'item1': 1150, 'item2': 300})\n",
    "'''\n",
    "data = [{'item': 'item1', 'amount': 400}, {'item': 'item2','amount': 300}, {'item': 'item1', 'amount': 750}]\n",
    "combine = {}\n",
    "for i in data:\n",
    "    if i['item'] not in combine:\n",
    "        combine[i['item']] = i['amount']\n",
    "    else:\n",
    "        combine[i['item']] += i['amount']\n",
    "print(combine)\n"
   ]
  },
  {
   "cell_type": "code",
   "execution_count": 1,
   "metadata": {},
   "outputs": [
    {
     "name": "stdout",
     "output_type": "stream",
     "text": [
      "item 4 55\n",
      "item 1 45.5\n",
      "item 3 41.3\n",
      "item 2 35\n",
      "item 5 24\n"
     ]
    }
   ],
   "source": [
    "'''\n",
    "Write a Python program to get the top three items in a shop.\n",
    "Sample data: {'item1': 45.50, 'item2':35, 'item3': 41.30, 'item4':55, 'item5': 24}\n",
    "Expected Output:\n",
    "item4 55\n",
    "item1 45.5\n",
    "item3 41.3\n",
    "'''\n",
    "\n",
    "data={'item 1': 45.50, 'item 2':35, 'item 3': 41.30, 'item 4':55, 'item 5': 24}\n",
    "new_data=list(data.values())\n",
    "new_data.sort(reverse=True)\n",
    "sorted_data={}\n",
    "for j in new_data: \n",
    "    for i in data:\n",
    "        if data[i]==j:\n",
    "            sorted_data[i]=j\n",
    "for key,value in sorted_data.items():\n",
    "    print(key,value)"
   ]
  },
  {
   "cell_type": "code",
   "execution_count": 4,
   "metadata": {},
   "outputs": [
    {
     "name": "stdout",
     "output_type": "stream",
     "text": [
      "Original Dictionary: \n",
      "{'Cierra Vega': (6.2, 70), 'Alden Cantrell': (5.9, 65), 'Kierra Gentry': (6.0, 68), 'Pierre Cox': (5.8, 66)} \n",
      "\n",
      "\n",
      "Height > 6ft and Weight> 70kg:\n",
      "\n",
      "Cierra Vega (6.2, 70)\n"
     ]
    }
   ],
   "source": [
    "'''\n",
    "Write a Python program to filter the height and width of students, which are stored in a\n",
    "dictionary\n",
    "Original Dictionary:\n",
    "{'Cierra Vega': (6.2, 70), 'Alden Cantrell': (5.9, 65), 'Kierra Gentry': (6.0, 68), 'Pierre Cox':\n",
    "(5.8, 66)}\n",
    "Height > 6ft and Weight> 70kg:\n",
    "{'Cierra Vega': (6.2, 70)}\n",
    "'''\n",
    "\n",
    "\n",
    "def finding(data, height, weight):\n",
    "    for key, value in data.items():\n",
    "        if value[0] >= height and value[1] >= weight:\n",
    "            print(f\"{key} {value}\")\n",
    "\n",
    "\n",
    "data={'Cierra Vega': (6.2, 70), 'Alden Cantrell': (5.9, 65), 'Kierra Gentry': (6.0, 68), 'Pierre Cox':(5.8, 66)}\n",
    "height = 6\n",
    "weight = 70\n",
    "print(f\"Original Dictionary: \\n{data} \\n\\n\")\n",
    "print(\"Height > 6ft and Weight> 70kg:\\n\")\n",
    "finding(data, height, weight)\n"
   ]
  },
  {
   "cell_type": "code",
   "execution_count": 26,
   "metadata": {},
   "outputs": [
    {
     "name": "stdout",
     "output_type": "stream",
     "text": [
      "For Science:  [92, 94, 88]\n",
      "For Math Marks:  [90, 89, 92]\n"
     ]
    }
   ],
   "source": [
    "'''\n",
    "Write a Python program to extract a list of values from a given list of dictionaries.\n",
    "Original Dictionary:\n",
    "[{'Math': 90, 'Science': 92}, {'Math': 89, 'Science': 94}, {'Math': 92, 'Science': 88}]\n",
    "Extract a list of values from said list of dictionaries where subject = Science\n",
    "[92, 94, 88]\n",
    "Original Dictionary:\n",
    "[{'Math': 90, 'Science': 92}, {'Math': 89, 'Science': 94}, {'Math': 92, 'Science': 88}]\n",
    "Extract a list of values from said list of dictionaries where subject = Math\n",
    "[90, 89, 92]\n",
    "'''\n",
    "data = [{'Math': 90, 'Science': 92}, {'Math': 89,'Science': 94}, {'Math': 92, 'Science': 88}]\n",
    "math_marks = []\n",
    "science_marks = []\n",
    "for i in data:\n",
    "    for key, value in i.items():\n",
    "        if key == 'Math':\n",
    "            math_marks.append(value)\n",
    "        elif key == 'Science':\n",
    "            science_marks.append(value)\n",
    "print(\"For Science: \",science_marks)\n",
    "print(\"For Math Marks: \",math_marks)\n",
    "\n"
   ]
  },
  {
   "cell_type": "code",
   "execution_count": 32,
   "metadata": {},
   "outputs": [
    {
     "name": "stdout",
     "output_type": "stream",
     "text": [
      "This is a tuple (100, 200, 300) It's is type: <class 'str'>\n"
     ]
    }
   ],
   "source": [
    "'''\n",
    "Write a Python program to print a tuple with string formatting.\n",
    "Sample tuple : (100, 200, 300)\n",
    "Output : This is a tuple (100, 200, 300)\n",
    "'''\n",
    "tup=(100, 200, 300)\n",
    "st=str(tup)\n",
    "print(f\"This is a tuple {st} It's is type: {type(st)}\")\n"
   ]
  },
  {
   "cell_type": "code",
   "execution_count": 39,
   "metadata": {},
   "outputs": [
    {
     "name": "stdout",
     "output_type": "stream",
     "text": [
      "[('item1', '82.20'), ('item3', '24.5'), ('item2', '15.10')]\n"
     ]
    }
   ],
   "source": [
    "'''\n",
    "Write a Python program to sort a tuple by its float element.\n",
    "Sample data: [('item1', '12.20'), ('item2', '15.10'), ('item3', '24.5')]\n",
    "Expected Output: [('item3', '24.5'), ('item2', '15.10'), ('item1', '12.20')]\n",
    "'''\n",
    "lis = [('item1', '82.20'), ('item2', '15.10'), ('item3', '24.5')]\n",
    "print(sorted(lis, key=lambda i: float(i[1]), reverse=True))\n",
    "'''\n",
    "Sorted function has 3 parameters,first the iterable value, which is 'lis', then the key, to execute to decide the order. Here the key is the lambda function which takes the index 1 from the set and converts it to float. Finally the reverse parameter is set to true because the expected output is in descending order\n",
    "''' "
   ]
  },
  {
   "cell_type": "code",
   "execution_count": 42,
   "metadata": {},
   "outputs": [
    {
     "name": "stdout",
     "output_type": "stream",
     "text": [
      "The Product of (4, 3, 2, 2, -1, 18) is:  -864\n",
      "The Product of (2, 4, 8, 8, 3, 2, 9) is:  27648\n"
     ]
    }
   ],
   "source": [
    "'''\n",
    "Write a Python program calculate the product, multiplying all the numbers of a given\n",
    "tuple.\n",
    "Original Tuple:\n",
    "(4, 3, 2, 2, -1, 18)\n",
    "Product - multiplying all the numbers of the said tuple: -864\n",
    "Original Tuple:\n",
    "(2, 4, 8, 8, 3, 2, 9)\n",
    "Product - multiplying all the numbers of the said tuple: 27648\n",
    "'''\n",
    "data=(4, 3, 2, 2, -1, 18)\n",
    "prod=1\n",
    "data2=(2, 4, 8, 8, 3, 2, 9)\n",
    "for i in data:\n",
    "    prod*=i\n",
    "print(f\"The Product of {data} is: \",prod)\n",
    "prod=1\n",
    "for i in data2:\n",
    "    prod*=i\n",
    "print(f\"The Product of {data2} is: \",prod)"
   ]
  },
  {
   "cell_type": "code",
   "execution_count": 52,
   "metadata": {},
   "outputs": [
    {
     "name": "stdout",
     "output_type": "stream",
     "text": [
      "[10.5, 44.0, 58.0, 2.5]\n"
     ]
    }
   ],
   "source": [
    "'''\n",
    "Write a Python program to calculate the average value of the numbers in a given tuple of\n",
    "tuples.\n",
    "Original Tuple:\n",
    "((10, 10, 10, 12), (30, 45, 56, 45), (81, 80, 39, 32), (1, 2, 3, 4))\n",
    "Average value of the numbers of the said tuple of tuples:\n",
    "[30.5, 34.25, 27.0, 23.25]\n",
    "Original Tuple:\n",
    "((1, 1, -5), (30, -15, 56), (81, -60, -39), (-10, 2, 3))\n",
    "Average value of the numbers of the said tuple of tuples:\n",
    "[25.5, -18.0, 3.75]\n",
    "'''\n",
    "data=((10, 10, 10, 12), (30, 45, 56, 45), (81, 80, 39, 32), (1, 2, 3, 4))\n",
    "avg=[]\n",
    "length=0\n",
    "for i in data:\n",
    "    sum=0\n",
    "    for j in i:\n",
    "        sum+=j\n",
    "    avg.append(sum/len(i))\n",
    "print(avg)\n"
   ]
  },
  {
   "cell_type": "code",
   "execution_count": 62,
   "metadata": {},
   "outputs": [
    {
     "name": "stdout",
     "output_type": "stream",
     "text": [
      "Check if White present in said tuple of tuples!\n",
      "True\n",
      "Check if Olive present in said tuple of tuples!\n",
      "False\n"
     ]
    }
   ],
   "source": [
    "'''\n",
    "Write a Python program to check if a specified element presents in a tuple of tuples.\n",
    "Original list:\n",
    "(('Red', 'White', 'Blue'), ('Green', 'Pink', 'Purple'), ('Orange', 'Yellow', 'Lime'))\n",
    "Check if White present in said tuple of tuples!\n",
    "True\n",
    "Check if White present in said tuple of tuples!\n",
    "True\n",
    "Check if Olive present in said tuple of tuples!\n",
    "False\n",
    "'''\n",
    "\n",
    "\n",
    "def checking(colour, data):\n",
    "    for i in data:\n",
    "        if colour in i:\n",
    "            print(\"True\")\n",
    "            break\n",
    "        else:\n",
    "            print(\"False\")\n",
    "            break\n",
    "\n",
    "\n",
    "data = (('Red', 'White', 'Blue'), ('Green', 'Pink','Purple'), ('Orange', 'Yellow', 'Lime'))\n",
    "print(\"Check if White present in said tuple of tuples!\")\n",
    "colour = \"White\"\n",
    "checking(colour, data)\n",
    "\n",
    "print(\"Check if Olive present in said tuple of tuples!\")\n",
    "colour = \"Olive\"\n",
    "checking(colour, data)\n"
   ]
  },
  {
   "cell_type": "code",
   "execution_count": 72,
   "metadata": {},
   "outputs": [
    {
     "name": "stdout",
     "output_type": "stream",
     "text": [
      "Original list of tuples: [(1, 2), (2, 3), (3, 4)]\n",
      "\n",
      "Converted to list of lists: [[1, 2], [2, 3], [3, 4]]\n",
      "\n",
      "\n",
      "Original list of tuples: [(1, 2), (2, 3, 5), (3, 4), (2, 3, 4, 2)]\n",
      "\n",
      "Converted to list of lists: [[1, 2], [2, 3, 5], [3, 4], [2, 3, 4, 2]]\n",
      "\n",
      "\n"
     ]
    }
   ],
   "source": [
    "'''\n",
    "Write a Python program to convert a given list of tuples to a list of lists.\n",
    "Original list of tuples: [(1, 2), (2, 3), (3, 4)]\n",
    "Convert the said list of tuples to a list of lists: [[1, 2], [2, 3], [3, 4]]\n",
    "Original list of tuples: [(1, 2), (2, 3, 5), (3, 4), (2, 3, 4, 2)]\n",
    "Convert the said list of tuples to a list of lists: [[1, 2], [2, 3, 5], [3, 4], [2, 3, 4, 2]]\n",
    "'''\n",
    "# import copy For printing the diffrence in the old list and new list. Python by default when copying a variable using '=' creates a reference of the original data and not a new copy. Thus all changes made to the original data will be reflected upon the coppied data\n",
    "def list_of_list(data):\n",
    "    counter=0\n",
    "    data_copy=data[:] # or copy.copy(data) both create shallow copies oor just use the inbuilt list function data.copy()\n",
    "    for i in data:\n",
    "        data[counter]=list(i)\n",
    "        counter+=1\n",
    "    print(f\"Original list of tuples: {data_copy}\\n\")\n",
    "    print(f\"Converted to list of lists: {data}\\n\\n\")\n",
    "data1=[(1, 2), (2, 3), (3, 4)]\n",
    "list_of_list(data1)\n",
    "data2=[(1, 2), (2, 3, 5), (3, 4), (2, 3, 4, 2)]\n",
    "list_of_list(data2)\n"
   ]
  }
 ],
 "metadata": {
  "kernelspec": {
   "display_name": "Python 3",
   "language": "python",
   "name": "python3"
  },
  "language_info": {
   "codemirror_mode": {
    "name": "ipython",
    "version": 3
   },
   "file_extension": ".py",
   "mimetype": "text/x-python",
   "name": "python",
   "nbconvert_exporter": "python",
   "pygments_lexer": "ipython3",
   "version": "3.10.9 (main, Dec 19 2022, 17:35:49) [GCC 12.2.0]"
  },
  "orig_nbformat": 4,
  "vscode": {
   "interpreter": {
    "hash": "e7370f93d1d0cde622a1f8e1c04877d8463912d04d973331ad4851f04de6915a"
   }
  }
 },
 "nbformat": 4,
 "nbformat_minor": 2
}
