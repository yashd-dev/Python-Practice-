{
 "cells": [
  {
   "attachments": {},
   "cell_type": "markdown",
   "metadata": {},
   "source": [
    "#### Program 1: Write a program to print all the strong numbers between 1 to 100"
   ]
  },
  {
   "cell_type": "code",
   "execution_count": 19,
   "metadata": {},
   "outputs": [
    {
     "name": "stdout",
     "output_type": "stream",
     "text": [
      "0\n",
      "1\n",
      "2\n"
     ]
    }
   ],
   "source": [
    "import math\n",
    "summ=0\n",
    "mul=1\n",
    "for i in range(100):\n",
    "    temp=i\n",
    "    summ=0\n",
    "    while i>0:\n",
    "        d=i%10\n",
    "        mul=math.factorial(d) #Using rhe factorial method to reduce time complexity \n",
    "        summ+=mul \n",
    "        i=i//10  \n",
    "    if(summ==temp):\n",
    "        print(summ)\n",
    "    else:\n",
    "        pass"
   ]
  },
  {
   "attachments": {},
   "cell_type": "markdown",
   "metadata": {},
   "source": [
    "#### Program 2: Write a program to search for an element in a list"
   ]
  },
  {
   "cell_type": "code",
   "execution_count": 30,
   "metadata": {},
   "outputs": [
    {
     "name": "stdout",
     "output_type": "stream",
     "text": [
      "3 is present\n"
     ]
    }
   ],
   "source": [
    "elements=int(input(\"Enter the number of elements in The list\"))\n",
    "arr=[]\n",
    "for i in range(elements):\n",
    "    arr.append(int(input()))\n",
    "search=int(input(\"Enter the number to search for:\"))\n",
    "if search in arr:\n",
    "    print(f\"{search} is present\")"
   ]
  },
  {
   "attachments": {},
   "cell_type": "markdown",
   "metadata": {},
   "source": [
    "#### Program 3: Write a python program to generate Fibonacci number series."
   ]
  },
  {
   "cell_type": "code",
   "execution_count": 31,
   "metadata": {},
   "outputs": [
    {
     "name": "stdout",
     "output_type": "stream",
     "text": [
      "1\n",
      "1\n",
      "2\n",
      "3\n",
      "5\n",
      "8\n",
      "13\n",
      "21\n",
      "34\n",
      "55\n",
      "89\n",
      "144\n",
      "233\n",
      "377\n",
      "610\n"
     ]
    }
   ],
   "source": [
    "num1=0\n",
    "num2=1\n",
    "userinput=int(input(\"Enter the number of elememts you wish to be displayed\"))\n",
    "for i in range(userinput):\n",
    "    sum=num1+num2\n",
    "    print(sum)\n",
    "    num2=num1\n",
    "    num1=sum"
   ]
  },
  {
   "attachments": {},
   "cell_type": "markdown",
   "metadata": {},
   "source": [
    "#### Program 4: Write a python program to reverse a given number"
   ]
  },
  {
   "cell_type": "code",
   "execution_count": 32,
   "metadata": {},
   "outputs": [
    {
     "name": "stdout",
     "output_type": "stream",
     "text": [
      "21\n"
     ]
    }
   ],
   "source": [
    "num=input(\"Enter a number to reverse it\")\n",
    "print(num[::-1]) #Using String Slicing to reverse it"
   ]
  },
  {
   "attachments": {},
   "cell_type": "markdown",
   "metadata": {},
   "source": [
    "#### Program 5: Write Python Program to Read a Number n and Print the Sum of odd Natural Numbers between the range of 1 to 200 both inclusive"
   ]
  },
  {
   "cell_type": "code",
   "execution_count": 2,
   "metadata": {},
   "outputs": [
    {
     "name": "stdout",
     "output_type": "stream",
     "text": [
      "10000\n"
     ]
    }
   ],
   "source": [
    "n=int(input()) \n",
    "sum=0\n",
    "for i in range(1,201,2):\n",
    "    sum+=i\n",
    "print(sum)"
   ]
  },
  {
   "cell_type": "code",
   "execution_count": 9,
   "metadata": {},
   "outputs": [
    {
     "name": "stdout",
     "output_type": "stream",
     "text": [
      "5 4 3 2 1 \n",
      "  4 3 2 1 \n",
      "    3 2 1 \n",
      "      2 1 \n",
      "        1 \n"
     ]
    }
   ],
   "source": [
    "''''\n",
    "Program 6: Write a Python program to print the following pattern:\n",
    "5 4 3 2 1\n",
    "  4 3 2 1\n",
    "    3 2 1\n",
    "      2 1\n",
    "        1\n",
    "'''\n",
    "for i in range(5,0,-1):\n",
    "  for k in range(5,i,-1):\n",
    "    print(\" \",end=\" \")\n",
    "  for j in range(i,0,-1):\n",
    "    print(j,end=\" \")    \n",
    "  print()\n"
   ]
  },
  {
   "attachments": {},
   "cell_type": "markdown",
   "metadata": {},
   "source": [
    "Program 7: Accept the marks for the number of subjects studying in this semester.\n",
    "While accepting marks check the constraints that entered marks should not be negative\n",
    "as well as should not be more than 100 (if entered terminate the code). If the constraint\n",
    "is satisfied, calculate the total & percentage. If % is greater than equal to 92 display\n",
    "“Merit” if % is between 75 and 91 display “Distinction” if % is between 60 and 74\n",
    "“First class” if % is between 45 to 59 display “Second class” else display “Fail "
   ]
  },
  {
   "cell_type": "code",
   "execution_count": 3,
   "metadata": {},
   "outputs": [
    {
     "name": "stdout",
     "output_type": "stream",
     "text": [
      "69.0\n",
      "First class\n"
     ]
    }
   ],
   "source": [
    "a = int(input(\"Emter Marks for Subject 1\"))\n",
    "b = int(input(\"Emter Marks for Subject 2\"))\n",
    "c = int(input(\"Emter Marks for Subject 3\"))\n",
    "d = int(input(\"Emter Marks for Subject 4\"))\n",
    "e = int(input(\"Emter Marks for Subject 5\"))\n",
    "if (a < 100 and a > -1 and b < 100 and b > -1 and c < 100 and c > -1 and d < 100 and d > -1 and e < 100 and e > -1):\n",
    "    total = a+b+c+d+e\n",
    "    percentage = total/5\n",
    "    print(percentage)\n",
    "    if percentage >= 92:\n",
    "        print(\"Merit\")\n",
    "    elif percentage >= 75:\n",
    "        print(\"Distinction\")\n",
    "    elif percentage >= 60:\n",
    "        print(\"First class\")\n",
    "    elif percentage>=45:\n",
    "        print(\"Second Class\")\n",
    "    else:\n",
    "        print(\"Fail\")\n"
   ]
  }
 ],
 "metadata": {
  "kernelspec": {
   "display_name": "Python 3",
   "language": "python",
   "name": "python3"
  },
  "language_info": {
   "codemirror_mode": {
    "name": "ipython",
    "version": 3
   },
   "file_extension": ".py",
   "mimetype": "text/x-python",
   "name": "python",
   "nbconvert_exporter": "python",
   "pygments_lexer": "ipython3",
   "version": "3.10.9 (main, Dec 19 2022, 17:35:49) [GCC 12.2.0]"
  },
  "orig_nbformat": 4,
  "vscode": {
   "interpreter": {
    "hash": "e7370f93d1d0cde622a1f8e1c04877d8463912d04d973331ad4851f04de6915a"
   }
  }
 },
 "nbformat": 4,
 "nbformat_minor": 2
}
